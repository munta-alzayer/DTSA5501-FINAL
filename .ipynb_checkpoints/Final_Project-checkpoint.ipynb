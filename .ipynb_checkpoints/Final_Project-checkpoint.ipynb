{
 "cells": [
  {
   "cell_type": "markdown",
   "metadata": {},
   "source": [
    "# Final Project - Muntadhar AlZayer"
   ]
  },
  {
   "cell_type": "markdown",
   "metadata": {},
   "source": [
    "Hello! This is my final project for *DTSA 5509 Introduction to Machine Learning: Supervised Learning*. We are utilizing data from UCI Machine Learning Repository https://archive.ics.uci.edu/ "
   ]
  },
  {
   "cell_type": "markdown",
   "metadata": {},
   "source": [
    "We are using Bank Marketing (with social/economic context) Data Set that has the following description:\n",
    "    *This dataset is using \"in-vehicle coupon recommendation Data Set\" UCI dataset.*\n",
    "    \n",
    "With the following \n",
    "            Attribute Information:\n",
    "\n",
    "        destination: No Urgent Place, Home, Work\n",
    "        passanger: Alone, Friend(s), Kid(s), Partner (who are the passengers in the car)\n",
    "        weather: Sunny, Rainy, Snowy\n",
    "        temperature:55, 80, 30\n",
    "        time: 2PM, 10AM, 6PM, 7AM, 10PM\n",
    "        coupon: Restaurant(<$20), Coffee House, Carry out & Take away, Bar, Restaurant($20-$50)\n",
    "    expiration: 1d, 2h (the coupon expires in 1 day or in 2 hours)\n",
    "    gender: Female, Male\n",
    "    age: 21, 46, 26, 31, 41, 50plus, 36, below21\n",
    "    maritalStatus: Unmarried partner, Single, Married partner, Divorced, Widowed\n",
    "    has_Children:1, 0\n",
    "    education: Some college - no degree, Bachelors degree, Associates degree, High School Graduate, Graduate degree (Masters or Doctorate), Some High School\n",
    "    occupation: Unemployed, Architecture & Engineering, Student,\n",
    "    Education&Training&Library, Healthcare Support,\n",
    "    Healthcare Practitioners & Technical, Sales & Related, Management,\n",
    "    Arts Design Entertainment Sports & Media, Computer & Mathematical,\n",
    "    Life Physical Social Science, Personal Care & Service,\n",
    "    Community & Social Services, Office & Administrative Support,\n",
    "    Construction & Extraction, Legal, Retired,\n",
    "    Installation Maintenance & Repair, Transportation & Material Moving,\n",
    "    Business & Financial, Protective Service,\n",
    "    Food Preparation & Serving Related, Production Occupations,\n",
    "    Building & Grounds Cleaning & Maintenance, Farming Fishing & Forestry\n",
    "    income: $37500 - $49999, $62500 - $74999, $12500 - $24999, $75000 - $87499,\n",
    "    $50000 - $62499, $25000 - $37499, $100000 or More, $87500 - $99999, Less than $12500\n",
    "    Bar: never, less1, 1~3, gt8, nan4~8 (feature meaning: how many times do you go to a bar every month?)\n",
    "    CoffeeHouse: never, less1, 4~8, 1~3, gt8, nan (feature meaning: how many times do you go to a coffeehouse every month?)\n",
    "    CarryAway:n4~8, 1~3, gt8, less1, never (feature meaning: how many times do you get take-away food every month?)\n",
    "    RestaurantLessThan20: 4~8, 1~3, less1, gt8, never (feature meaning: how many times do you go to a restaurant with an average expense per person of less than $20 every month?)\n",
    "    Restaurant20To50: 1~3, less1, never, gt8, 4~8, nan (feature meaning: how many times do you go to a restaurant with average expense per person of $20 - $50 every month?)\n",
    "    toCoupon_GEQ15min:0,1 (feature meaning: driving distance to the restaurant/bar for using the coupon is greater than 15 minutes)\n",
    "    toCoupon_GEQ25min:0, 1 (feature meaning: driving distance to the restaurant/bar for using the coupon is greater than 25 minutes)\n",
    "    direction_same:0, 1 (feature meaning: whether the restaurant/bar is in the same direction as your current destination)\n",
    "    direction_opp:1, 0 (feature meaning: whether the restaurant/bar is in the same direction as your current destination)\n",
    "    Y:1, 0 (whether the coupon is accepted)\n",
    "Source: https://archive.ics.uci.edu/ml/datasets/Bank+Marketing\n",
    "\n",
    "Citation: [Moro et al., 2014] S. Moro, P. Cortez and P. Rita. A Data-Driven Approach to Predict the Success of Bank Telemarketing. Decision Support Systems, Elsevier, 62:22-31, June 2014"
   ]
  },
  {
   "cell_type": "markdown",
   "metadata": {},
   "source": [
    "# Project Summary\n",
    "\n",
    "## Objective\n",
    "I want to use this data to help predict the conditions and personal traits for people that take coupons when they are driving past. This will help the employees of those companies to better give out those coupons and to avoid conditions where people are less likely to accept them. The data includes both personal traits, weather conditions, and range of the establishment from the place that coupons are being given out. \n",
    "\n",
    "## Main model\n",
    "The main model I will use is a Data Tree Classifier as it utilizes all the features provided in the data, and will also help me to find the most important features. \n",
    "\n",
    "Note: While deciding when and where to give out coupons the employees will not be able to have personal trait details, but given the insight into the data we will be able to at least provide them with insight into external factors. "
   ]
  },
  {
   "cell_type": "markdown",
   "metadata": {},
   "source": [
    "## Import Libraries and Data\n",
    "We start with importing necessary libraries:"
   ]
  },
  {
   "cell_type": "code",
   "execution_count": 1,
   "metadata": {},
   "outputs": [],
   "source": [
    "%matplotlib inline\n",
    "import sklearn\n",
    "from sklearn.model_selection import train_test_split\n",
    "from sklearn import preprocessing\n",
    "import numpy as np\n",
    "import scipy as sp\n",
    "import scipy.stats as stats\n",
    "import pandas as pd\n",
    "import matplotlib.pyplot as plt\n",
    "import seaborn as sns\n",
    "# Set color map to have light blue background\n",
    "sns.set()\n",
    "import statsmodels.formula.api as smf\n",
    "import statsmodels.api as sm\n",
    "from sklearn.tree import DecisionTreeClassifier\n",
    "from sklearn.metrics import accuracy_score, make_scorer\n",
    "from sklearn.model_selection import train_test_split\n",
    "from sklearn.model_selection import GridSearchCV\n",
    "from sklearn.metrics import f1_score\n",
    "from sklearn import tree\n"
   ]
  },
  {
   "cell_type": "markdown",
   "metadata": {},
   "source": [
    "Source: https://archive.ics.uci.edu/ml/datasets/Bank+Marketing"
   ]
  },
  {
   "cell_type": "markdown",
   "metadata": {},
   "source": [
    "### Data Import"
   ]
  },
  {
   "cell_type": "markdown",
   "metadata": {},
   "source": [
    "We then import the data from the data file:"
   ]
  },
  {
   "cell_type": "code",
   "execution_count": 2,
   "metadata": {},
   "outputs": [],
   "source": [
    "df = pd.read_csv('https://archive.ics.uci.edu/ml/machine-learning-databases/00603/in-vehicle-coupon-recommendation.csv')"
   ]
  },
  {
   "cell_type": "markdown",
   "metadata": {},
   "source": [
    "Below we see a sample of the data"
   ]
  },
  {
   "cell_type": "code",
   "execution_count": 3,
   "metadata": {},
   "outputs": [
    {
     "data": {
      "text/html": [
       "<div>\n",
       "<style scoped>\n",
       "    .dataframe tbody tr th:only-of-type {\n",
       "        vertical-align: middle;\n",
       "    }\n",
       "\n",
       "    .dataframe tbody tr th {\n",
       "        vertical-align: top;\n",
       "    }\n",
       "\n",
       "    .dataframe thead th {\n",
       "        text-align: right;\n",
       "    }\n",
       "</style>\n",
       "<table border=\"1\" class=\"dataframe\">\n",
       "  <thead>\n",
       "    <tr style=\"text-align: right;\">\n",
       "      <th></th>\n",
       "      <th>destination</th>\n",
       "      <th>passanger</th>\n",
       "      <th>weather</th>\n",
       "      <th>temperature</th>\n",
       "      <th>time</th>\n",
       "      <th>coupon</th>\n",
       "      <th>expiration</th>\n",
       "      <th>gender</th>\n",
       "      <th>age</th>\n",
       "      <th>maritalStatus</th>\n",
       "      <th>...</th>\n",
       "      <th>CoffeeHouse</th>\n",
       "      <th>CarryAway</th>\n",
       "      <th>RestaurantLessThan20</th>\n",
       "      <th>Restaurant20To50</th>\n",
       "      <th>toCoupon_GEQ5min</th>\n",
       "      <th>toCoupon_GEQ15min</th>\n",
       "      <th>toCoupon_GEQ25min</th>\n",
       "      <th>direction_same</th>\n",
       "      <th>direction_opp</th>\n",
       "      <th>Y</th>\n",
       "    </tr>\n",
       "  </thead>\n",
       "  <tbody>\n",
       "    <tr>\n",
       "      <th>0</th>\n",
       "      <td>No Urgent Place</td>\n",
       "      <td>Alone</td>\n",
       "      <td>Sunny</td>\n",
       "      <td>55</td>\n",
       "      <td>2PM</td>\n",
       "      <td>Restaurant(&lt;20)</td>\n",
       "      <td>1d</td>\n",
       "      <td>Female</td>\n",
       "      <td>21</td>\n",
       "      <td>Unmarried partner</td>\n",
       "      <td>...</td>\n",
       "      <td>never</td>\n",
       "      <td>NaN</td>\n",
       "      <td>4~8</td>\n",
       "      <td>1~3</td>\n",
       "      <td>1</td>\n",
       "      <td>0</td>\n",
       "      <td>0</td>\n",
       "      <td>0</td>\n",
       "      <td>1</td>\n",
       "      <td>1</td>\n",
       "    </tr>\n",
       "    <tr>\n",
       "      <th>1</th>\n",
       "      <td>No Urgent Place</td>\n",
       "      <td>Friend(s)</td>\n",
       "      <td>Sunny</td>\n",
       "      <td>80</td>\n",
       "      <td>10AM</td>\n",
       "      <td>Coffee House</td>\n",
       "      <td>2h</td>\n",
       "      <td>Female</td>\n",
       "      <td>21</td>\n",
       "      <td>Unmarried partner</td>\n",
       "      <td>...</td>\n",
       "      <td>never</td>\n",
       "      <td>NaN</td>\n",
       "      <td>4~8</td>\n",
       "      <td>1~3</td>\n",
       "      <td>1</td>\n",
       "      <td>0</td>\n",
       "      <td>0</td>\n",
       "      <td>0</td>\n",
       "      <td>1</td>\n",
       "      <td>0</td>\n",
       "    </tr>\n",
       "    <tr>\n",
       "      <th>2</th>\n",
       "      <td>No Urgent Place</td>\n",
       "      <td>Friend(s)</td>\n",
       "      <td>Sunny</td>\n",
       "      <td>80</td>\n",
       "      <td>10AM</td>\n",
       "      <td>Carry out &amp; Take away</td>\n",
       "      <td>2h</td>\n",
       "      <td>Female</td>\n",
       "      <td>21</td>\n",
       "      <td>Unmarried partner</td>\n",
       "      <td>...</td>\n",
       "      <td>never</td>\n",
       "      <td>NaN</td>\n",
       "      <td>4~8</td>\n",
       "      <td>1~3</td>\n",
       "      <td>1</td>\n",
       "      <td>1</td>\n",
       "      <td>0</td>\n",
       "      <td>0</td>\n",
       "      <td>1</td>\n",
       "      <td>1</td>\n",
       "    </tr>\n",
       "    <tr>\n",
       "      <th>3</th>\n",
       "      <td>No Urgent Place</td>\n",
       "      <td>Friend(s)</td>\n",
       "      <td>Sunny</td>\n",
       "      <td>80</td>\n",
       "      <td>2PM</td>\n",
       "      <td>Coffee House</td>\n",
       "      <td>2h</td>\n",
       "      <td>Female</td>\n",
       "      <td>21</td>\n",
       "      <td>Unmarried partner</td>\n",
       "      <td>...</td>\n",
       "      <td>never</td>\n",
       "      <td>NaN</td>\n",
       "      <td>4~8</td>\n",
       "      <td>1~3</td>\n",
       "      <td>1</td>\n",
       "      <td>1</td>\n",
       "      <td>0</td>\n",
       "      <td>0</td>\n",
       "      <td>1</td>\n",
       "      <td>0</td>\n",
       "    </tr>\n",
       "    <tr>\n",
       "      <th>4</th>\n",
       "      <td>No Urgent Place</td>\n",
       "      <td>Friend(s)</td>\n",
       "      <td>Sunny</td>\n",
       "      <td>80</td>\n",
       "      <td>2PM</td>\n",
       "      <td>Coffee House</td>\n",
       "      <td>1d</td>\n",
       "      <td>Female</td>\n",
       "      <td>21</td>\n",
       "      <td>Unmarried partner</td>\n",
       "      <td>...</td>\n",
       "      <td>never</td>\n",
       "      <td>NaN</td>\n",
       "      <td>4~8</td>\n",
       "      <td>1~3</td>\n",
       "      <td>1</td>\n",
       "      <td>1</td>\n",
       "      <td>0</td>\n",
       "      <td>0</td>\n",
       "      <td>1</td>\n",
       "      <td>0</td>\n",
       "    </tr>\n",
       "  </tbody>\n",
       "</table>\n",
       "<p>5 rows × 26 columns</p>\n",
       "</div>"
      ],
      "text/plain": [
       "       destination  passanger weather  temperature  time  \\\n",
       "0  No Urgent Place      Alone   Sunny           55   2PM   \n",
       "1  No Urgent Place  Friend(s)   Sunny           80  10AM   \n",
       "2  No Urgent Place  Friend(s)   Sunny           80  10AM   \n",
       "3  No Urgent Place  Friend(s)   Sunny           80   2PM   \n",
       "4  No Urgent Place  Friend(s)   Sunny           80   2PM   \n",
       "\n",
       "                  coupon expiration  gender age      maritalStatus  ...  \\\n",
       "0        Restaurant(<20)         1d  Female  21  Unmarried partner  ...   \n",
       "1           Coffee House         2h  Female  21  Unmarried partner  ...   \n",
       "2  Carry out & Take away         2h  Female  21  Unmarried partner  ...   \n",
       "3           Coffee House         2h  Female  21  Unmarried partner  ...   \n",
       "4           Coffee House         1d  Female  21  Unmarried partner  ...   \n",
       "\n",
       "   CoffeeHouse CarryAway RestaurantLessThan20 Restaurant20To50  \\\n",
       "0        never       NaN                  4~8              1~3   \n",
       "1        never       NaN                  4~8              1~3   \n",
       "2        never       NaN                  4~8              1~3   \n",
       "3        never       NaN                  4~8              1~3   \n",
       "4        never       NaN                  4~8              1~3   \n",
       "\n",
       "  toCoupon_GEQ5min toCoupon_GEQ15min toCoupon_GEQ25min direction_same  \\\n",
       "0                1                 0                 0              0   \n",
       "1                1                 0                 0              0   \n",
       "2                1                 1                 0              0   \n",
       "3                1                 1                 0              0   \n",
       "4                1                 1                 0              0   \n",
       "\n",
       "  direction_opp  Y  \n",
       "0             1  1  \n",
       "1             1  0  \n",
       "2             1  1  \n",
       "3             1  0  \n",
       "4             1  0  \n",
       "\n",
       "[5 rows x 26 columns]"
      ]
     },
     "execution_count": 3,
     "metadata": {},
     "output_type": "execute_result"
    }
   ],
   "source": [
    "df.head()"
   ]
  },
  {
   "cell_type": "markdown",
   "metadata": {},
   "source": [
    "There doesn't seem to be any NULL values but they are set to unknown"
   ]
  },
  {
   "cell_type": "code",
   "execution_count": 4,
   "metadata": {},
   "outputs": [
    {
     "name": "stdout",
     "output_type": "stream",
     "text": [
      "<class 'pandas.core.frame.DataFrame'>\n",
      "RangeIndex: 12684 entries, 0 to 12683\n",
      "Data columns (total 26 columns):\n",
      " #   Column                Non-Null Count  Dtype \n",
      "---  ------                --------------  ----- \n",
      " 0   destination           12684 non-null  object\n",
      " 1   passanger             12684 non-null  object\n",
      " 2   weather               12684 non-null  object\n",
      " 3   temperature           12684 non-null  int64 \n",
      " 4   time                  12684 non-null  object\n",
      " 5   coupon                12684 non-null  object\n",
      " 6   expiration            12684 non-null  object\n",
      " 7   gender                12684 non-null  object\n",
      " 8   age                   12684 non-null  object\n",
      " 9   maritalStatus         12684 non-null  object\n",
      " 10  has_children          12684 non-null  int64 \n",
      " 11  education             12684 non-null  object\n",
      " 12  occupation            12684 non-null  object\n",
      " 13  income                12684 non-null  object\n",
      " 14  car                   108 non-null    object\n",
      " 15  Bar                   12577 non-null  object\n",
      " 16  CoffeeHouse           12467 non-null  object\n",
      " 17  CarryAway             12533 non-null  object\n",
      " 18  RestaurantLessThan20  12554 non-null  object\n",
      " 19  Restaurant20To50      12495 non-null  object\n",
      " 20  toCoupon_GEQ5min      12684 non-null  int64 \n",
      " 21  toCoupon_GEQ15min     12684 non-null  int64 \n",
      " 22  toCoupon_GEQ25min     12684 non-null  int64 \n",
      " 23  direction_same        12684 non-null  int64 \n",
      " 24  direction_opp         12684 non-null  int64 \n",
      " 25  Y                     12684 non-null  int64 \n",
      "dtypes: int64(8), object(18)\n",
      "memory usage: 2.5+ MB\n",
      "None\n"
     ]
    },
    {
     "data": {
      "text/html": [
       "<div>\n",
       "<style scoped>\n",
       "    .dataframe tbody tr th:only-of-type {\n",
       "        vertical-align: middle;\n",
       "    }\n",
       "\n",
       "    .dataframe tbody tr th {\n",
       "        vertical-align: top;\n",
       "    }\n",
       "\n",
       "    .dataframe thead th {\n",
       "        text-align: right;\n",
       "    }\n",
       "</style>\n",
       "<table border=\"1\" class=\"dataframe\">\n",
       "  <thead>\n",
       "    <tr style=\"text-align: right;\">\n",
       "      <th></th>\n",
       "      <th>temperature</th>\n",
       "      <th>has_children</th>\n",
       "      <th>toCoupon_GEQ5min</th>\n",
       "      <th>toCoupon_GEQ15min</th>\n",
       "      <th>toCoupon_GEQ25min</th>\n",
       "      <th>direction_same</th>\n",
       "      <th>direction_opp</th>\n",
       "      <th>Y</th>\n",
       "    </tr>\n",
       "  </thead>\n",
       "  <tbody>\n",
       "    <tr>\n",
       "      <th>count</th>\n",
       "      <td>12684.000000</td>\n",
       "      <td>12684.000000</td>\n",
       "      <td>12684.0</td>\n",
       "      <td>12684.000000</td>\n",
       "      <td>12684.000000</td>\n",
       "      <td>12684.000000</td>\n",
       "      <td>12684.000000</td>\n",
       "      <td>12684.000000</td>\n",
       "    </tr>\n",
       "    <tr>\n",
       "      <th>mean</th>\n",
       "      <td>63.301798</td>\n",
       "      <td>0.414144</td>\n",
       "      <td>1.0</td>\n",
       "      <td>0.561495</td>\n",
       "      <td>0.119126</td>\n",
       "      <td>0.214759</td>\n",
       "      <td>0.785241</td>\n",
       "      <td>0.568433</td>\n",
       "    </tr>\n",
       "    <tr>\n",
       "      <th>std</th>\n",
       "      <td>19.154486</td>\n",
       "      <td>0.492593</td>\n",
       "      <td>0.0</td>\n",
       "      <td>0.496224</td>\n",
       "      <td>0.323950</td>\n",
       "      <td>0.410671</td>\n",
       "      <td>0.410671</td>\n",
       "      <td>0.495314</td>\n",
       "    </tr>\n",
       "    <tr>\n",
       "      <th>min</th>\n",
       "      <td>30.000000</td>\n",
       "      <td>0.000000</td>\n",
       "      <td>1.0</td>\n",
       "      <td>0.000000</td>\n",
       "      <td>0.000000</td>\n",
       "      <td>0.000000</td>\n",
       "      <td>0.000000</td>\n",
       "      <td>0.000000</td>\n",
       "    </tr>\n",
       "    <tr>\n",
       "      <th>25%</th>\n",
       "      <td>55.000000</td>\n",
       "      <td>0.000000</td>\n",
       "      <td>1.0</td>\n",
       "      <td>0.000000</td>\n",
       "      <td>0.000000</td>\n",
       "      <td>0.000000</td>\n",
       "      <td>1.000000</td>\n",
       "      <td>0.000000</td>\n",
       "    </tr>\n",
       "    <tr>\n",
       "      <th>50%</th>\n",
       "      <td>80.000000</td>\n",
       "      <td>0.000000</td>\n",
       "      <td>1.0</td>\n",
       "      <td>1.000000</td>\n",
       "      <td>0.000000</td>\n",
       "      <td>0.000000</td>\n",
       "      <td>1.000000</td>\n",
       "      <td>1.000000</td>\n",
       "    </tr>\n",
       "    <tr>\n",
       "      <th>75%</th>\n",
       "      <td>80.000000</td>\n",
       "      <td>1.000000</td>\n",
       "      <td>1.0</td>\n",
       "      <td>1.000000</td>\n",
       "      <td>0.000000</td>\n",
       "      <td>0.000000</td>\n",
       "      <td>1.000000</td>\n",
       "      <td>1.000000</td>\n",
       "    </tr>\n",
       "    <tr>\n",
       "      <th>max</th>\n",
       "      <td>80.000000</td>\n",
       "      <td>1.000000</td>\n",
       "      <td>1.0</td>\n",
       "      <td>1.000000</td>\n",
       "      <td>1.000000</td>\n",
       "      <td>1.000000</td>\n",
       "      <td>1.000000</td>\n",
       "      <td>1.000000</td>\n",
       "    </tr>\n",
       "  </tbody>\n",
       "</table>\n",
       "</div>"
      ],
      "text/plain": [
       "        temperature  has_children  toCoupon_GEQ5min  toCoupon_GEQ15min  \\\n",
       "count  12684.000000  12684.000000           12684.0       12684.000000   \n",
       "mean      63.301798      0.414144               1.0           0.561495   \n",
       "std       19.154486      0.492593               0.0           0.496224   \n",
       "min       30.000000      0.000000               1.0           0.000000   \n",
       "25%       55.000000      0.000000               1.0           0.000000   \n",
       "50%       80.000000      0.000000               1.0           1.000000   \n",
       "75%       80.000000      1.000000               1.0           1.000000   \n",
       "max       80.000000      1.000000               1.0           1.000000   \n",
       "\n",
       "       toCoupon_GEQ25min  direction_same  direction_opp             Y  \n",
       "count       12684.000000    12684.000000   12684.000000  12684.000000  \n",
       "mean            0.119126        0.214759       0.785241      0.568433  \n",
       "std             0.323950        0.410671       0.410671      0.495314  \n",
       "min             0.000000        0.000000       0.000000      0.000000  \n",
       "25%             0.000000        0.000000       1.000000      0.000000  \n",
       "50%             0.000000        0.000000       1.000000      1.000000  \n",
       "75%             0.000000        0.000000       1.000000      1.000000  \n",
       "max             1.000000        1.000000       1.000000      1.000000  "
      ]
     },
     "execution_count": 4,
     "metadata": {},
     "output_type": "execute_result"
    }
   ],
   "source": [
    "print(df.info())\n",
    "df.describe()"
   ]
  },
  {
   "cell_type": "markdown",
   "metadata": {},
   "source": [
    "We initially have 25 features with 12684 rows, as we go through data cleaning this may change. Please find the description for each feature above."
   ]
  },
  {
   "cell_type": "markdown",
   "metadata": {},
   "source": [
    "### Data Cleaning"
   ]
  },
  {
   "cell_type": "markdown",
   "metadata": {},
   "source": [
    "We want to find the columns that have null values and the course of action for each."
   ]
  },
  {
   "cell_type": "code",
   "execution_count": 5,
   "metadata": {},
   "outputs": [
    {
     "name": "stdout",
     "output_type": "stream",
     "text": [
      "Drop column ' car '  - Percenteage of null values:  0.9914853358561968\n",
      "Impute column ' Bar '  - Percenteage of null values:  0.008435824660990224\n",
      "Impute column ' CoffeeHouse '  - Percenteage of null values:  0.017108167770419427\n",
      "Impute column ' CarryAway '  - Percenteage of null values:  0.011904761904761904\n",
      "Impute column ' RestaurantLessThan20 '  - Percenteage of null values:  0.010249132765689057\n",
      "Impute column ' Restaurant20To50 '  - Percenteage of null values:  0.014900662251655629\n"
     ]
    }
   ],
   "source": [
    "for c in df.columns:\n",
    "    if(df[c].isnull().sum() / len(df) >0 and df[c].isnull().sum() / len(df) <= .05):\n",
    "        print(\"Impute column '\",c, \"'  - Percenteage of null values: \", df[c].isnull().sum() / len(df))\n",
    "    elif (df[c].isnull().sum() / len(df)) > .05:\n",
    "        print(\"Drop column '\", c, \"'  - Percenteage of null values: \", df[c].isnull().sum() / len(df))"
   ]
  },
  {
   "cell_type": "markdown",
   "metadata": {},
   "source": [
    "The column `car` has 99.14% missing values so it needs to be dropped as it is above the 5% acceptable null values. The rest of the columns that contain null values can be imputed with the mode of each as they are all categorical columns.  "
   ]
  },
  {
   "cell_type": "code",
   "execution_count": 6,
   "metadata": {},
   "outputs": [],
   "source": [
    "# Drop column 'car'\n",
    "df = df.drop(columns=['car'])"
   ]
  },
  {
   "cell_type": "code",
   "execution_count": 7,
   "metadata": {},
   "outputs": [
    {
     "name": "stdout",
     "output_type": "stream",
     "text": [
      "['Bar', 'CoffeeHouse', 'CarryAway', 'RestaurantLessThan20', 'Restaurant20To50']\n"
     ]
    }
   ],
   "source": [
    "#Impute the remaining columns with null values\n",
    "cols = df.columns\n",
    "feats_w_null = []\n",
    "for c in df.columns:\n",
    "    if df[c].isnull().sum() > 0:\n",
    "        feats_w_null.append(c)\n",
    "\n",
    "\n",
    "print(feats_w_null)\n"
   ]
  },
  {
   "cell_type": "code",
   "execution_count": 8,
   "metadata": {},
   "outputs": [
    {
     "name": "stdout",
     "output_type": "stream",
     "text": [
      "Filled nulls for Bar\n",
      "Filled nulls for CoffeeHouse\n",
      "Filled nulls for CarryAway\n",
      "Filled nulls for RestaurantLessThan20\n",
      "Filled nulls for Restaurant20To50\n"
     ]
    }
   ],
   "source": [
    "#For each column in feats_w_null we get the mode and replace all null values with the most common entry\n",
    "\n",
    "for x in feats_w_null:\n",
    "    replacement = df[x].mode()\n",
    "    df[x].fillna(replacement[0], inplace=True)\n",
    "    print(\"Filled nulls for\", x)\n"
   ]
  },
  {
   "cell_type": "code",
   "execution_count": 9,
   "metadata": {},
   "outputs": [],
   "source": [
    "for c in df.columns:\n",
    "    if(df[c].isnull().sum() / len(df) >0 and df[c].isnull().sum() / len(df) <= .05):\n",
    "        print(\"Impute: \",c)\n",
    "    elif (df[c].isnull().sum() / len(df)) > .05:\n",
    "        print(\"Drop :\", c)"
   ]
  },
  {
   "cell_type": "code",
   "execution_count": 10,
   "metadata": {},
   "outputs": [
    {
     "name": "stdout",
     "output_type": "stream",
     "text": [
      "<class 'pandas.core.frame.DataFrame'>\n",
      "RangeIndex: 12684 entries, 0 to 12683\n",
      "Data columns (total 25 columns):\n",
      " #   Column                Non-Null Count  Dtype \n",
      "---  ------                --------------  ----- \n",
      " 0   destination           12684 non-null  object\n",
      " 1   passanger             12684 non-null  object\n",
      " 2   weather               12684 non-null  object\n",
      " 3   temperature           12684 non-null  int64 \n",
      " 4   time                  12684 non-null  object\n",
      " 5   coupon                12684 non-null  object\n",
      " 6   expiration            12684 non-null  object\n",
      " 7   gender                12684 non-null  object\n",
      " 8   age                   12684 non-null  object\n",
      " 9   maritalStatus         12684 non-null  object\n",
      " 10  has_children          12684 non-null  int64 \n",
      " 11  education             12684 non-null  object\n",
      " 12  occupation            12684 non-null  object\n",
      " 13  income                12684 non-null  object\n",
      " 14  Bar                   12684 non-null  object\n",
      " 15  CoffeeHouse           12684 non-null  object\n",
      " 16  CarryAway             12684 non-null  object\n",
      " 17  RestaurantLessThan20  12684 non-null  object\n",
      " 18  Restaurant20To50      12684 non-null  object\n",
      " 19  toCoupon_GEQ5min      12684 non-null  int64 \n",
      " 20  toCoupon_GEQ15min     12684 non-null  int64 \n",
      " 21  toCoupon_GEQ25min     12684 non-null  int64 \n",
      " 22  direction_same        12684 non-null  int64 \n",
      " 23  direction_opp         12684 non-null  int64 \n",
      " 24  Y                     12684 non-null  int64 \n",
      "dtypes: int64(8), object(17)\n",
      "memory usage: 2.4+ MB\n",
      "None\n"
     ]
    }
   ],
   "source": [
    "print(df.info())"
   ]
  },
  {
   "cell_type": "markdown",
   "metadata": {},
   "source": [
    "After data cleaning, we now have no null values and 24 features with the same number of rows. "
   ]
  },
  {
   "cell_type": "markdown",
   "metadata": {},
   "source": [
    "### Data Visualization\n",
    "Lets take a deeper dive into the categorical data and visualize them"
   ]
  },
  {
   "cell_type": "markdown",
   "metadata": {},
   "source": [
    "#### Destination"
   ]
  },
  {
   "cell_type": "code",
   "execution_count": 11,
   "metadata": {},
   "outputs": [
    {
     "data": {
      "text/plain": [
       "<matplotlib.axes._subplots.AxesSubplot at 0x1d57d423588>"
      ]
     },
     "execution_count": 11,
     "metadata": {},
     "output_type": "execute_result"
    },
    {
     "data": {
      "image/png": "[encoded data removed]",
      "text/plain": [
       "<Figure size 432x288 with 1 Axes>"
      ]
     },
     "metadata": {},
     "output_type": "display_data"
    }
   ],
   "source": [
    "df['destination'].value_counts().plot(kind='barh')"
   ]
  },
  {
   "cell_type": "code",
   "execution_count": 12,
   "metadata": {},
   "outputs": [
    {
     "data": {
      "text/html": [
       "<div>\n",
       "<style scoped>\n",
       "    .dataframe tbody tr th:only-of-type {\n",
       "        vertical-align: middle;\n",
       "    }\n",
       "\n",
       "    .dataframe tbody tr th {\n",
       "        vertical-align: top;\n",
       "    }\n",
       "\n",
       "    .dataframe thead th {\n",
       "        text-align: right;\n",
       "    }\n",
       "</style>\n",
       "<table border=\"1\" class=\"dataframe\">\n",
       "  <thead>\n",
       "    <tr style=\"text-align: right;\">\n",
       "      <th>Y</th>\n",
       "      <th>0</th>\n",
       "      <th>1</th>\n",
       "    </tr>\n",
       "    <tr>\n",
       "      <th>destination</th>\n",
       "      <th></th>\n",
       "      <th></th>\n",
       "    </tr>\n",
       "  </thead>\n",
       "  <tbody>\n",
       "    <tr>\n",
       "      <th>Home</th>\n",
       "      <td>1598</td>\n",
       "      <td>1639</td>\n",
       "    </tr>\n",
       "    <tr>\n",
       "      <th>No Urgent Place</th>\n",
       "      <td>2301</td>\n",
       "      <td>3982</td>\n",
       "    </tr>\n",
       "    <tr>\n",
       "      <th>Work</th>\n",
       "      <td>1575</td>\n",
       "      <td>1589</td>\n",
       "    </tr>\n",
       "  </tbody>\n",
       "</table>\n",
       "</div>"
      ],
      "text/plain": [
       "Y                   0     1\n",
       "destination                \n",
       "Home             1598  1639\n",
       "No Urgent Place  2301  3982\n",
       "Work             1575  1589"
      ]
     },
     "execution_count": 12,
     "metadata": {},
     "output_type": "execute_result"
    }
   ],
   "source": [
    "destination = df.groupby(['destination', 'Y']).size().unstack()\n",
    "destination"
   ]
  },
  {
   "cell_type": "markdown",
   "metadata": {},
   "source": [
    "From this we can see that there is a split between \"No Urgent Place\" and the other two categories of \"Work\" and \"Home\". This is a good indicator that the coupons are being spread at different times of the day and during different days of the week. As well, we see almost a 50/50 split within the outcome based on the value of the persons destination."
   ]
  },
  {
   "cell_type": "markdown",
   "metadata": {},
   "source": [
    "#### Weather"
   ]
  },
  {
   "cell_type": "code",
   "execution_count": 13,
   "metadata": {},
   "outputs": [
    {
     "data": {
      "text/plain": [
       "<matplotlib.axes._subplots.AxesSubplot at 0x1d57d5034c8>"
      ]
     },
     "execution_count": 13,
     "metadata": {},
     "output_type": "execute_result"
    },
    {
     "data": {
      "image/png": "[encoded data removed]",
      "text/plain": [
       "<Figure size 432x288 with 1 Axes>"
      ]
     },
     "metadata": {},
     "output_type": "display_data"
    }
   ],
   "source": [
    "df['weather'].value_counts().plot(kind='barh')"
   ]
  },
  {
   "cell_type": "code",
   "execution_count": 14,
   "metadata": {},
   "outputs": [
    {
     "data": {
      "text/html": [
       "<div>\n",
       "<style scoped>\n",
       "    .dataframe tbody tr th:only-of-type {\n",
       "        vertical-align: middle;\n",
       "    }\n",
       "\n",
       "    .dataframe tbody tr th {\n",
       "        vertical-align: top;\n",
       "    }\n",
       "\n",
       "    .dataframe thead th {\n",
       "        text-align: right;\n",
       "    }\n",
       "</style>\n",
       "<table border=\"1\" class=\"dataframe\">\n",
       "  <thead>\n",
       "    <tr style=\"text-align: right;\">\n",
       "      <th>Y</th>\n",
       "      <th>0</th>\n",
       "      <th>1</th>\n",
       "    </tr>\n",
       "    <tr>\n",
       "      <th>weather</th>\n",
       "      <th></th>\n",
       "      <th></th>\n",
       "    </tr>\n",
       "  </thead>\n",
       "  <tbody>\n",
       "    <tr>\n",
       "      <th>Rainy</th>\n",
       "      <td>650</td>\n",
       "      <td>560</td>\n",
       "    </tr>\n",
       "    <tr>\n",
       "      <th>Snowy</th>\n",
       "      <td>744</td>\n",
       "      <td>661</td>\n",
       "    </tr>\n",
       "    <tr>\n",
       "      <th>Sunny</th>\n",
       "      <td>4080</td>\n",
       "      <td>5989</td>\n",
       "    </tr>\n",
       "  </tbody>\n",
       "</table>\n",
       "</div>"
      ],
      "text/plain": [
       "Y           0     1\n",
       "weather            \n",
       "Rainy     650   560\n",
       "Snowy     744   661\n",
       "Sunny    4080  5989"
      ]
     },
     "execution_count": 14,
     "metadata": {},
     "output_type": "execute_result"
    }
   ],
   "source": [
    "weather = df.groupby(['weather', 'Y']).size().unstack()\n",
    "weather"
   ]
  },
  {
   "cell_type": "markdown",
   "metadata": {},
   "source": [
    "There is about a 50/50 split for people accepting the coupon based on the weather, so we can see that there is no direct correlation between the two visalized features above."
   ]
  },
  {
   "cell_type": "markdown",
   "metadata": {},
   "source": [
    "#### toCoupon_GEQ5min"
   ]
  },
  {
   "cell_type": "code",
   "execution_count": 15,
   "metadata": {},
   "outputs": [
    {
     "data": {
      "text/plain": [
       "<matplotlib.axes._subplots.AxesSubplot at 0x1d57d572188>"
      ]
     },
     "execution_count": 15,
     "metadata": {},
     "output_type": "execute_result"
    },
    {
     "data": {
      "image/png": "[encoded data removed]",
      "text/plain": [
       "<Figure size 432x288 with 1 Axes>"
      ]
     },
     "metadata": {},
     "output_type": "display_data"
    }
   ],
   "source": [
    "df['toCoupon_GEQ5min'].value_counts().plot(kind='barh')"
   ]
  },
  {
   "cell_type": "markdown",
   "metadata": {},
   "source": [
    "The values of `toCoupon_GEQ5min` are all 1 so we can drop this column as it does not provide valuable data. "
   ]
  },
  {
   "cell_type": "code",
   "execution_count": 16,
   "metadata": {},
   "outputs": [],
   "source": [
    "df = df.drop(columns=['toCoupon_GEQ5min'])"
   ]
  },
  {
   "cell_type": "markdown",
   "metadata": {},
   "source": [
    "Now we have 23 features to work with."
   ]
  },
  {
   "cell_type": "markdown",
   "metadata": {},
   "source": [
    "# Categorical string to int\n",
    "We need to change all string categorical data into integer. I utilized the LabelEncoder function in sklearn to do this instead of manually mapping each instance to a value."
   ]
  },
  {
   "cell_type": "code",
   "execution_count": 17,
   "metadata": {
    "scrolled": true
   },
   "outputs": [
    {
     "name": "stdout",
     "output_type": "stream",
     "text": [
      "Column: destination \n",
      "  String categories: ['No Urgent Place' 'Home' 'Work']\n",
      "  Int categories: [1 0 2]\n",
      "Column: passanger \n",
      "  String categories: ['Alone' 'Friend(s)' 'Kid(s)' 'Partner']\n",
      "  Int categories: [0 1 2 3]\n",
      "Column: weather \n",
      "  String categories: ['Sunny' 'Rainy' 'Snowy']\n",
      "  Int categories: [2 0 1]\n",
      "Column: time \n",
      "  String categories: ['2PM' '10AM' '6PM' '7AM' '10PM']\n",
      "  Int categories: [2 0 3 4 1]\n",
      "Column: coupon \n",
      "  String categories: ['Restaurant(<20)' 'Coffee House' 'Carry out & Take away' 'Bar'\n",
      " 'Restaurant(20-50)']\n",
      "  Int categories: [4 2 1 0 3]\n",
      "Column: expiration \n",
      "  String categories: ['1d' '2h']\n",
      "  Int categories: [0 1]\n",
      "Column: gender \n",
      "  String categories: ['Female' 'Male']\n",
      "  Int categories: [0 1]\n",
      "Column: age \n",
      "  String categories: ['21' '46' '26' '31' '41' '50plus' '36' 'below21']\n",
      "  Int categories: [0 5 1 2 4 6 3 7]\n",
      "Column: maritalStatus \n",
      "  String categories: ['Unmarried partner' 'Single' 'Married partner' 'Divorced' 'Widowed']\n",
      "  Int categories: [3 2 1 0 4]\n",
      "Column: education \n",
      "  String categories: ['Some college - no degree' 'Bachelors degree' 'Associates degree'\n",
      " 'High School Graduate' 'Graduate degree (Masters or Doctorate)'\n",
      " 'Some High School']\n",
      "  Int categories: [5 1 0 3 2 4]\n",
      "Column: occupation \n",
      "  String categories: ['Unemployed' 'Architecture & Engineering' 'Student'\n",
      " 'Education&Training&Library' 'Healthcare Support'\n",
      " 'Healthcare Practitioners & Technical' 'Sales & Related' 'Management'\n",
      " 'Arts Design Entertainment Sports & Media' 'Computer & Mathematical'\n",
      " 'Life Physical Social Science' 'Personal Care & Service'\n",
      " 'Community & Social Services' 'Office & Administrative Support'\n",
      " 'Construction & Extraction' 'Legal' 'Retired'\n",
      " 'Installation Maintenance & Repair' 'Transportation & Material Moving'\n",
      " 'Business & Financial' 'Protective Service'\n",
      " 'Food Preparation & Serving Related' 'Production Occupations'\n",
      " 'Building & Grounds Cleaning & Maintenance' 'Farming Fishing & Forestry']\n",
      "  Int categories: [24  0 22  7 11 10 21 15  1  5 14 17  4 16  6 13 20 12 23  3 19  9 18  2\n",
      "  8]\n",
      "Column: income \n",
      "  String categories: ['$37500 - $49999' '$62500 - $74999' '$12500 - $24999' '$75000 - $87499'\n",
      " '$50000 - $62499' '$25000 - $37499' '$100000 or More' '$87500 - $99999'\n",
      " 'Less than $12500']\n",
      "  Int categories: [3 5 1 6 4 2 0 7 8]\n",
      "Column: Bar \n",
      "  String categories: ['never' 'less1' '1~3' 'gt8' '4~8']\n",
      "  Int categories: [4 3 0 2 1]\n",
      "Column: CoffeeHouse \n",
      "  String categories: ['never' 'less1' '4~8' '1~3' 'gt8']\n",
      "  Int categories: [4 3 1 0 2]\n",
      "Column: CarryAway \n",
      "  String categories: ['1~3' '4~8' 'gt8' 'less1' 'never']\n",
      "  Int categories: [0 1 2 3 4]\n",
      "Column: RestaurantLessThan20 \n",
      "  String categories: ['4~8' '1~3' 'less1' 'gt8' 'never']\n",
      "  Int categories: [1 0 3 2 4]\n",
      "Column: Restaurant20To50 \n",
      "  String categories: ['1~3' 'less1' 'never' 'gt8' '4~8']\n",
      "  Int categories: [0 3 4 2 1]\n"
     ]
    }
   ],
   "source": [
    "dtypes = df.dtypes #Data Types for each column\n",
    "columns = df.columns # Columns in dataframe\n",
    "for x in columns:\n",
    "    if dtypes[x] == object: #If the values are not continous\n",
    "        print(\"Column:\",x, '\\n', \" String categories:\",df[x].unique()) #Print old string categories\n",
    "        le = preprocessing.LabelEncoder() #Init LabelEncoder\n",
    "        le.fit(df[x].unique()) #Fit it with the unique values in the dataframe column\n",
    "        df[x] = le.transform(df[x]) #Transform them into their integer values\n",
    "        print( \"  Int categories:\",df[x].unique()) #Print new values"
   ]
  },
  {
   "cell_type": "code",
   "execution_count": 18,
   "metadata": {},
   "outputs": [
    {
     "name": "stdout",
     "output_type": "stream",
     "text": [
      "<class 'pandas.core.frame.DataFrame'>\n",
      "RangeIndex: 12684 entries, 0 to 12683\n",
      "Data columns (total 24 columns):\n",
      " #   Column                Non-Null Count  Dtype\n",
      "---  ------                --------------  -----\n",
      " 0   destination           12684 non-null  int32\n",
      " 1   passanger             12684 non-null  int32\n",
      " 2   weather               12684 non-null  int32\n",
      " 3   temperature           12684 non-null  int64\n",
      " 4   time                  12684 non-null  int32\n",
      " 5   coupon                12684 non-null  int32\n",
      " 6   expiration            12684 non-null  int32\n",
      " 7   gender                12684 non-null  int32\n",
      " 8   age                   12684 non-null  int32\n",
      " 9   maritalStatus         12684 non-null  int32\n",
      " 10  has_children          12684 non-null  int64\n",
      " 11  education             12684 non-null  int32\n",
      " 12  occupation            12684 non-null  int32\n",
      " 13  income                12684 non-null  int32\n",
      " 14  Bar                   12684 non-null  int32\n",
      " 15  CoffeeHouse           12684 non-null  int32\n",
      " 16  CarryAway             12684 non-null  int32\n",
      " 17  RestaurantLessThan20  12684 non-null  int32\n",
      " 18  Restaurant20To50      12684 non-null  int32\n",
      " 19  toCoupon_GEQ15min     12684 non-null  int64\n",
      " 20  toCoupon_GEQ25min     12684 non-null  int64\n",
      " 21  direction_same        12684 non-null  int64\n",
      " 22  direction_opp         12684 non-null  int64\n",
      " 23  Y                     12684 non-null  int64\n",
      "dtypes: int32(17), int64(7)\n",
      "memory usage: 1.5 MB\n",
      "None\n"
     ]
    }
   ],
   "source": [
    "print(df.info())"
   ]
  },
  {
   "cell_type": "markdown",
   "metadata": {},
   "source": [
    "Now we have all our columns in numerical form with both continous and categorical data. "
   ]
  },
  {
   "cell_type": "markdown",
   "metadata": {},
   "source": [
    "# Data Correlation\n",
    "Lets test the correlation between the data and find the most correlated feature to our result"
   ]
  },
  {
   "cell_type": "code",
   "execution_count": 19,
   "metadata": {},
   "outputs": [
    {
     "data": {
      "text/plain": [
       "<matplotlib.axes._subplots.AxesSubplot at 0x1d57d266108>"
      ]
     },
     "execution_count": 19,
     "metadata": {},
     "output_type": "execute_result"
    },
    {
     "data": {
      "image/png": "[encoded data removed]",
      "text/plain": [
       "<Figure size 432x288 with 2 Axes>"
      ]
     },
     "metadata": {},
     "output_type": "display_data"
    }
   ],
   "source": [
    "sns.heatmap(df.corr()) #Heatmap for correlations in dataframe"
   ]
  },
  {
   "cell_type": "code",
   "execution_count": 20,
   "metadata": {},
   "outputs": [
    {
     "name": "stdout",
     "output_type": "stream",
     "text": [
      "Y                       1.000000\n",
      "weather                 0.098800\n",
      "coupon                  0.097019\n",
      "temperature             0.061240\n",
      "passanger               0.051614\n",
      "gender                  0.043969\n",
      "education               0.043023\n",
      "maritalStatus           0.025083\n",
      "direction_same          0.014570\n",
      "occupation              0.007521\n",
      "destination            -0.001906\n",
      "RestaurantLessThan20   -0.011137\n",
      "direction_opp          -0.014570\n",
      "income                 -0.023949\n",
      "age                    -0.035241\n",
      "has_children           -0.045557\n",
      "time                   -0.047377\n",
      "CarryAway              -0.048717\n",
      "Restaurant20To50       -0.056268\n",
      "Bar                    -0.076033\n",
      "toCoupon_GEQ15min      -0.081602\n",
      "toCoupon_GEQ25min      -0.103633\n",
      "expiration             -0.129920\n",
      "CoffeeHouse            -0.144629\n",
      "Name: Y, dtype: float64\n"
     ]
    }
   ],
   "source": [
    "#Y is the last column/row in the correlation above, we can quantify it below:\n",
    "correlation = df.corr()['Y']\n",
    "print(correlation.sort_values(ascending=False))"
   ]
  },
  {
   "cell_type": "markdown",
   "metadata": {},
   "source": [
    "Even the most correlated feature is not correlated enough to utilize a Linear model, but lets test it with some of the features:"
   ]
  },
  {
   "cell_type": "code",
   "execution_count": 21,
   "metadata": {},
   "outputs": [
    {
     "name": "stdout",
     "output_type": "stream",
     "text": [
      "                            OLS Regression Results                            \n",
      "==============================================================================\n",
      "Dep. Variable:                      Y   R-squared:                       0.037\n",
      "Model:                            OLS   Adj. R-squared:                  0.037\n",
      "Method:                 Least Squares   F-statistic:                     164.4\n",
      "Date:                Sun, 27 Feb 2022   Prob (F-statistic):          1.55e-104\n",
      "Time:                        12:59:47   Log-Likelihood:                -8844.0\n",
      "No. Observations:               12684   AIC:                         1.770e+04\n",
      "Df Residuals:                   12680   BIC:                         1.773e+04\n",
      "Df Model:                           3                                         \n",
      "Covariance Type:            nonrobust                                         \n",
      "===============================================================================\n",
      "                  coef    std err          t      P>|t|      [0.025      0.975]\n",
      "-------------------------------------------------------------------------------\n",
      "Intercept       0.4889      0.015     33.555      0.000       0.460       0.517\n",
      "weather         0.0669      0.007      9.714      0.000       0.053       0.080\n",
      "coupon          0.0309      0.003      9.551      0.000       0.025       0.037\n",
      "CoffeeHouse    -0.0464      0.003    -16.520      0.000      -0.052      -0.041\n",
      "==============================================================================\n",
      "Omnibus:                    50921.461   Durbin-Watson:                   1.722\n",
      "Prob(Omnibus):                  0.000   Jarque-Bera (JB):             1814.977\n",
      "Skew:                          -0.258   Prob(JB):                         0.00\n",
      "Kurtosis:                       1.220   Cond. No.                         13.6\n",
      "==============================================================================\n",
      "\n",
      "Warnings:\n",
      "[1] Standard Errors assume that the covariance matrix of the errors is correctly specified.\n"
     ]
    }
   ],
   "source": [
    "model = smf.ols(formula='Y ~ weather + coupon + CoffeeHouse ', data=df)\n",
    " \n",
    "res = model.fit() #update this value according to the result\n",
    "print(res.summary())"
   ]
  },
  {
   "cell_type": "markdown",
   "metadata": {},
   "source": [
    "Above is a Linear Model for testing the highest correlated features, even then we don't have enough to predict future values based solely on `weather`, `coupon`, and `expiration`. So we need to use Decision Tree Classifier to have the best use of all features."
   ]
  },
  {
   "cell_type": "markdown",
   "metadata": {},
   "source": [
    "# Decision Tree Classifier"
   ]
  },
  {
   "cell_type": "markdown",
   "metadata": {},
   "source": [
    "First, we move the features and the result into x and y respectively"
   ]
  },
  {
   "cell_type": "code",
   "execution_count": 22,
   "metadata": {},
   "outputs": [
    {
     "name": "stdout",
     "output_type": "stream",
     "text": [
      "<class 'pandas.core.frame.DataFrame'>\n",
      "RangeIndex: 12684 entries, 0 to 12683\n",
      "Data columns (total 23 columns):\n",
      " #   Column                Non-Null Count  Dtype\n",
      "---  ------                --------------  -----\n",
      " 0   destination           12684 non-null  int32\n",
      " 1   passanger             12684 non-null  int32\n",
      " 2   weather               12684 non-null  int32\n",
      " 3   temperature           12684 non-null  int64\n",
      " 4   time                  12684 non-null  int32\n",
      " 5   coupon                12684 non-null  int32\n",
      " 6   expiration            12684 non-null  int32\n",
      " 7   gender                12684 non-null  int32\n",
      " 8   age                   12684 non-null  int32\n",
      " 9   maritalStatus         12684 non-null  int32\n",
      " 10  has_children          12684 non-null  int64\n",
      " 11  education             12684 non-null  int32\n",
      " 12  occupation            12684 non-null  int32\n",
      " 13  income                12684 non-null  int32\n",
      " 14  Bar                   12684 non-null  int32\n",
      " 15  CoffeeHouse           12684 non-null  int32\n",
      " 16  CarryAway             12684 non-null  int32\n",
      " 17  RestaurantLessThan20  12684 non-null  int32\n",
      " 18  Restaurant20To50      12684 non-null  int32\n",
      " 19  toCoupon_GEQ15min     12684 non-null  int64\n",
      " 20  toCoupon_GEQ25min     12684 non-null  int64\n",
      " 21  direction_same        12684 non-null  int64\n",
      " 22  direction_opp         12684 non-null  int64\n",
      "dtypes: int32(17), int64(6)\n",
      "memory usage: 1.4 MB\n",
      "None\n"
     ]
    }
   ],
   "source": [
    "#Split data into parameters and result \n",
    "x = df.drop(columns='Y').copy()\n",
    "y = df[['Y']].copy()\n",
    "\n",
    "print(x.info())\n",
    "# print(y.info())"
   ]
  },
  {
   "cell_type": "markdown",
   "metadata": {},
   "source": [
    "Then we provide a 80/20 split for trainging and testing data"
   ]
  },
  {
   "cell_type": "code",
   "execution_count": 23,
   "metadata": {},
   "outputs": [],
   "source": [
    "#Split data into training and testing \n",
    "x_train, x_test, y_train, y_test = train_test_split(x, y, train_size=0.8)\n"
   ]
  },
  {
   "cell_type": "code",
   "execution_count": 24,
   "metadata": {},
   "outputs": [
    {
     "data": {
      "text/html": [
       "<div>\n",
       "<style scoped>\n",
       "    .dataframe tbody tr th:only-of-type {\n",
       "        vertical-align: middle;\n",
       "    }\n",
       "\n",
       "    .dataframe tbody tr th {\n",
       "        vertical-align: top;\n",
       "    }\n",
       "\n",
       "    .dataframe thead th {\n",
       "        text-align: right;\n",
       "    }\n",
       "</style>\n",
       "<table border=\"1\" class=\"dataframe\">\n",
       "  <thead>\n",
       "    <tr style=\"text-align: right;\">\n",
       "      <th></th>\n",
       "      <th>destination</th>\n",
       "      <th>passanger</th>\n",
       "      <th>weather</th>\n",
       "      <th>temperature</th>\n",
       "      <th>time</th>\n",
       "      <th>coupon</th>\n",
       "      <th>expiration</th>\n",
       "      <th>gender</th>\n",
       "      <th>age</th>\n",
       "      <th>maritalStatus</th>\n",
       "      <th>...</th>\n",
       "      <th>income</th>\n",
       "      <th>Bar</th>\n",
       "      <th>CoffeeHouse</th>\n",
       "      <th>CarryAway</th>\n",
       "      <th>RestaurantLessThan20</th>\n",
       "      <th>Restaurant20To50</th>\n",
       "      <th>toCoupon_GEQ15min</th>\n",
       "      <th>toCoupon_GEQ25min</th>\n",
       "      <th>direction_same</th>\n",
       "      <th>direction_opp</th>\n",
       "    </tr>\n",
       "  </thead>\n",
       "  <tbody>\n",
       "    <tr>\n",
       "      <th>10425</th>\n",
       "      <td>1</td>\n",
       "      <td>0</td>\n",
       "      <td>2</td>\n",
       "      <td>80</td>\n",
       "      <td>0</td>\n",
       "      <td>2</td>\n",
       "      <td>1</td>\n",
       "      <td>0</td>\n",
       "      <td>0</td>\n",
       "      <td>2</td>\n",
       "      <td>...</td>\n",
       "      <td>8</td>\n",
       "      <td>0</td>\n",
       "      <td>1</td>\n",
       "      <td>2</td>\n",
       "      <td>2</td>\n",
       "      <td>1</td>\n",
       "      <td>1</td>\n",
       "      <td>0</td>\n",
       "      <td>0</td>\n",
       "      <td>1</td>\n",
       "    </tr>\n",
       "    <tr>\n",
       "      <th>6838</th>\n",
       "      <td>2</td>\n",
       "      <td>0</td>\n",
       "      <td>2</td>\n",
       "      <td>55</td>\n",
       "      <td>4</td>\n",
       "      <td>2</td>\n",
       "      <td>0</td>\n",
       "      <td>1</td>\n",
       "      <td>1</td>\n",
       "      <td>1</td>\n",
       "      <td>...</td>\n",
       "      <td>4</td>\n",
       "      <td>4</td>\n",
       "      <td>3</td>\n",
       "      <td>3</td>\n",
       "      <td>0</td>\n",
       "      <td>3</td>\n",
       "      <td>1</td>\n",
       "      <td>1</td>\n",
       "      <td>0</td>\n",
       "      <td>1</td>\n",
       "    </tr>\n",
       "    <tr>\n",
       "      <th>1811</th>\n",
       "      <td>1</td>\n",
       "      <td>1</td>\n",
       "      <td>2</td>\n",
       "      <td>80</td>\n",
       "      <td>0</td>\n",
       "      <td>1</td>\n",
       "      <td>1</td>\n",
       "      <td>0</td>\n",
       "      <td>6</td>\n",
       "      <td>1</td>\n",
       "      <td>...</td>\n",
       "      <td>4</td>\n",
       "      <td>4</td>\n",
       "      <td>3</td>\n",
       "      <td>1</td>\n",
       "      <td>0</td>\n",
       "      <td>3</td>\n",
       "      <td>1</td>\n",
       "      <td>0</td>\n",
       "      <td>0</td>\n",
       "      <td>1</td>\n",
       "    </tr>\n",
       "    <tr>\n",
       "      <th>8112</th>\n",
       "      <td>1</td>\n",
       "      <td>1</td>\n",
       "      <td>1</td>\n",
       "      <td>30</td>\n",
       "      <td>1</td>\n",
       "      <td>1</td>\n",
       "      <td>0</td>\n",
       "      <td>0</td>\n",
       "      <td>4</td>\n",
       "      <td>1</td>\n",
       "      <td>...</td>\n",
       "      <td>5</td>\n",
       "      <td>4</td>\n",
       "      <td>3</td>\n",
       "      <td>3</td>\n",
       "      <td>3</td>\n",
       "      <td>3</td>\n",
       "      <td>1</td>\n",
       "      <td>0</td>\n",
       "      <td>0</td>\n",
       "      <td>1</td>\n",
       "    </tr>\n",
       "    <tr>\n",
       "      <th>2286</th>\n",
       "      <td>0</td>\n",
       "      <td>0</td>\n",
       "      <td>2</td>\n",
       "      <td>80</td>\n",
       "      <td>3</td>\n",
       "      <td>2</td>\n",
       "      <td>1</td>\n",
       "      <td>0</td>\n",
       "      <td>4</td>\n",
       "      <td>2</td>\n",
       "      <td>...</td>\n",
       "      <td>2</td>\n",
       "      <td>3</td>\n",
       "      <td>3</td>\n",
       "      <td>3</td>\n",
       "      <td>3</td>\n",
       "      <td>4</td>\n",
       "      <td>0</td>\n",
       "      <td>0</td>\n",
       "      <td>0</td>\n",
       "      <td>1</td>\n",
       "    </tr>\n",
       "    <tr>\n",
       "      <th>...</th>\n",
       "      <td>...</td>\n",
       "      <td>...</td>\n",
       "      <td>...</td>\n",
       "      <td>...</td>\n",
       "      <td>...</td>\n",
       "      <td>...</td>\n",
       "      <td>...</td>\n",
       "      <td>...</td>\n",
       "      <td>...</td>\n",
       "      <td>...</td>\n",
       "      <td>...</td>\n",
       "      <td>...</td>\n",
       "      <td>...</td>\n",
       "      <td>...</td>\n",
       "      <td>...</td>\n",
       "      <td>...</td>\n",
       "      <td>...</td>\n",
       "      <td>...</td>\n",
       "      <td>...</td>\n",
       "      <td>...</td>\n",
       "      <td>...</td>\n",
       "    </tr>\n",
       "    <tr>\n",
       "      <th>7278</th>\n",
       "      <td>0</td>\n",
       "      <td>0</td>\n",
       "      <td>2</td>\n",
       "      <td>80</td>\n",
       "      <td>3</td>\n",
       "      <td>0</td>\n",
       "      <td>1</td>\n",
       "      <td>0</td>\n",
       "      <td>1</td>\n",
       "      <td>1</td>\n",
       "      <td>...</td>\n",
       "      <td>3</td>\n",
       "      <td>3</td>\n",
       "      <td>0</td>\n",
       "      <td>0</td>\n",
       "      <td>0</td>\n",
       "      <td>0</td>\n",
       "      <td>0</td>\n",
       "      <td>0</td>\n",
       "      <td>1</td>\n",
       "      <td>0</td>\n",
       "    </tr>\n",
       "    <tr>\n",
       "      <th>8682</th>\n",
       "      <td>1</td>\n",
       "      <td>0</td>\n",
       "      <td>2</td>\n",
       "      <td>80</td>\n",
       "      <td>0</td>\n",
       "      <td>2</td>\n",
       "      <td>0</td>\n",
       "      <td>1</td>\n",
       "      <td>1</td>\n",
       "      <td>2</td>\n",
       "      <td>...</td>\n",
       "      <td>0</td>\n",
       "      <td>1</td>\n",
       "      <td>0</td>\n",
       "      <td>3</td>\n",
       "      <td>0</td>\n",
       "      <td>3</td>\n",
       "      <td>0</td>\n",
       "      <td>0</td>\n",
       "      <td>0</td>\n",
       "      <td>1</td>\n",
       "    </tr>\n",
       "    <tr>\n",
       "      <th>6579</th>\n",
       "      <td>2</td>\n",
       "      <td>0</td>\n",
       "      <td>2</td>\n",
       "      <td>80</td>\n",
       "      <td>4</td>\n",
       "      <td>1</td>\n",
       "      <td>0</td>\n",
       "      <td>0</td>\n",
       "      <td>4</td>\n",
       "      <td>1</td>\n",
       "      <td>...</td>\n",
       "      <td>5</td>\n",
       "      <td>1</td>\n",
       "      <td>0</td>\n",
       "      <td>1</td>\n",
       "      <td>2</td>\n",
       "      <td>3</td>\n",
       "      <td>1</td>\n",
       "      <td>1</td>\n",
       "      <td>0</td>\n",
       "      <td>1</td>\n",
       "    </tr>\n",
       "    <tr>\n",
       "      <th>2649</th>\n",
       "      <td>1</td>\n",
       "      <td>1</td>\n",
       "      <td>2</td>\n",
       "      <td>80</td>\n",
       "      <td>0</td>\n",
       "      <td>1</td>\n",
       "      <td>1</td>\n",
       "      <td>0</td>\n",
       "      <td>1</td>\n",
       "      <td>1</td>\n",
       "      <td>...</td>\n",
       "      <td>3</td>\n",
       "      <td>4</td>\n",
       "      <td>0</td>\n",
       "      <td>0</td>\n",
       "      <td>0</td>\n",
       "      <td>3</td>\n",
       "      <td>1</td>\n",
       "      <td>0</td>\n",
       "      <td>0</td>\n",
       "      <td>1</td>\n",
       "    </tr>\n",
       "    <tr>\n",
       "      <th>9964</th>\n",
       "      <td>2</td>\n",
       "      <td>0</td>\n",
       "      <td>0</td>\n",
       "      <td>55</td>\n",
       "      <td>4</td>\n",
       "      <td>0</td>\n",
       "      <td>0</td>\n",
       "      <td>1</td>\n",
       "      <td>2</td>\n",
       "      <td>2</td>\n",
       "      <td>...</td>\n",
       "      <td>4</td>\n",
       "      <td>4</td>\n",
       "      <td>4</td>\n",
       "      <td>0</td>\n",
       "      <td>0</td>\n",
       "      <td>0</td>\n",
       "      <td>1</td>\n",
       "      <td>1</td>\n",
       "      <td>0</td>\n",
       "      <td>1</td>\n",
       "    </tr>\n",
       "  </tbody>\n",
       "</table>\n",
       "<p>10147 rows × 23 columns</p>\n",
       "</div>"
      ],
      "text/plain": [
       "       destination  passanger  weather  temperature  time  coupon  expiration  \\\n",
       "10425            1          0        2           80     0       2           1   \n",
       "6838             2          0        2           55     4       2           0   \n",
       "1811             1          1        2           80     0       1           1   \n",
       "8112             1          1        1           30     1       1           0   \n",
       "2286             0          0        2           80     3       2           1   \n",
       "...            ...        ...      ...          ...   ...     ...         ...   \n",
       "7278             0          0        2           80     3       0           1   \n",
       "8682             1          0        2           80     0       2           0   \n",
       "6579             2          0        2           80     4       1           0   \n",
       "2649             1          1        2           80     0       1           1   \n",
       "9964             2          0        0           55     4       0           0   \n",
       "\n",
       "       gender  age  maritalStatus  ...  income  Bar  CoffeeHouse  CarryAway  \\\n",
       "10425       0    0              2  ...       8    0            1          2   \n",
       "6838        1    1              1  ...       4    4            3          3   \n",
       "1811        0    6              1  ...       4    4            3          1   \n",
       "8112        0    4              1  ...       5    4            3          3   \n",
       "2286        0    4              2  ...       2    3            3          3   \n",
       "...       ...  ...            ...  ...     ...  ...          ...        ...   \n",
       "7278        0    1              1  ...       3    3            0          0   \n",
       "8682        1    1              2  ...       0    1            0          3   \n",
       "6579        0    4              1  ...       5    1            0          1   \n",
       "2649        0    1              1  ...       3    4            0          0   \n",
       "9964        1    2              2  ...       4    4            4          0   \n",
       "\n",
       "       RestaurantLessThan20  Restaurant20To50  toCoupon_GEQ15min  \\\n",
       "10425                     2                 1                  1   \n",
       "6838                      0                 3                  1   \n",
       "1811                      0                 3                  1   \n",
       "8112                      3                 3                  1   \n",
       "2286                      3                 4                  0   \n",
       "...                     ...               ...                ...   \n",
       "7278                      0                 0                  0   \n",
       "8682                      0                 3                  0   \n",
       "6579                      2                 3                  1   \n",
       "2649                      0                 3                  1   \n",
       "9964                      0                 0                  1   \n",
       "\n",
       "       toCoupon_GEQ25min  direction_same  direction_opp  \n",
       "10425                  0               0              1  \n",
       "6838                   1               0              1  \n",
       "1811                   0               0              1  \n",
       "8112                   0               0              1  \n",
       "2286                   0               0              1  \n",
       "...                  ...             ...            ...  \n",
       "7278                   0               1              0  \n",
       "8682                   0               0              1  \n",
       "6579                   1               0              1  \n",
       "2649                   0               0              1  \n",
       "9964                   1               0              1  \n",
       "\n",
       "[10147 rows x 23 columns]"
      ]
     },
     "execution_count": 24,
     "metadata": {},
     "output_type": "execute_result"
    }
   ],
   "source": [
    "x_train"
   ]
  },
  {
   "cell_type": "markdown",
   "metadata": {},
   "source": [
    "With the data ready, we can then run random parameters on the DTC and view the accuracy score"
   ]
  },
  {
   "cell_type": "code",
   "execution_count": 25,
   "metadata": {},
   "outputs": [
    {
     "name": "stdout",
     "output_type": "stream",
     "text": [
      "Accuracy Score for initial DTC: 0.6988569176192353\n"
     ]
    }
   ],
   "source": [
    "#Decision Tree Classifier with random initial parameters \n",
    "classifier = DecisionTreeClassifier(max_depth=10, random_state=14)\n",
    "classifier.fit(x_train, y_train)\n",
    "pred = classifier.predict(x_test)\n",
    "acc_score = accuracy_score(y_true=y_test, y_pred = pred)\n",
    "\n",
    "print(\"Accuracy Score for initial DTC:\", acc_score)"
   ]
  },
  {
   "cell_type": "markdown",
   "metadata": {},
   "source": [
    "An accuracy score of 69% is nice for random initial values but we can get a better score by modifying our parameters, we can run GridSearchCV to search for the best values to give us the best Accuracy of the model"
   ]
  },
  {
   "cell_type": "code",
   "execution_count": 26,
   "metadata": {},
   "outputs": [
    {
     "name": "stdout",
     "output_type": "stream",
     "text": [
      "Best Estimator values: DecisionTreeClassifier(ccp_alpha=0.0, class_weight=None, criterion='gini',\n",
      "                       max_depth=9, max_features=None, max_leaf_nodes=50,\n",
      "                       min_impurity_decrease=0.0, min_impurity_split=None,\n",
      "                       min_samples_leaf=1, min_samples_split=4,\n",
      "                       min_weight_fraction_leaf=0.0, presort='deprecated',\n",
      "                       random_state=None, splitter='best')\n",
      "Best Score: 0.703360387679145\n"
     ]
    }
   ],
   "source": [
    "parameters = {'max_depth' : np.arange(3,10),\n",
    "             'criterion': ['gini', 'entropy'],\n",
    "              'max_leaf_nodes' : [5,10,15,20,50,100],\n",
    "              'min_samples_split' : [2,4,5,10,15,20]\n",
    "             }\n",
    "grid_search_tree = GridSearchCV(DecisionTreeClassifier(), parameters, scoring=\"accuracy\")\n",
    "\n",
    "grid_search_tree.fit(x_train, y_train)\n",
    "\n",
    "print(\"Best Estimator values:\", grid_search_tree.best_estimator_)\n",
    "\n",
    "print('Best Score:', np.abs(grid_search_tree.best_score_))"
   ]
  },
  {
   "cell_type": "markdown",
   "metadata": {},
   "source": [
    "With the best parameters provided to us above, we can then use that model to predict the test data and get the accuracy score"
   ]
  },
  {
   "cell_type": "code",
   "execution_count": 27,
   "metadata": {},
   "outputs": [
    {
     "name": "stdout",
     "output_type": "stream",
     "text": [
      "Accuracy Score Optimized Parameters: 0.7067402443831297\n",
      "F1 Score Optimized Parameters: 0.7544554455445543\n"
     ]
    }
   ],
   "source": [
    "#Testing the best scoring parameters from above with test value:\n",
    "\n",
    "classifier = DecisionTreeClassifier(ccp_alpha=0.0, class_weight=None, criterion='gini',\n",
    "                       max_depth=9, max_features=None, max_leaf_nodes=100,\n",
    "                       min_impurity_decrease=0.0, min_impurity_split=None,\n",
    "                       min_samples_leaf=1, min_samples_split=15,\n",
    "                       min_weight_fraction_leaf=0.0, presort='deprecated',\n",
    "                       random_state=None, splitter='best')\n",
    "\n",
    "classifier.fit(x_train, y_train)\n",
    "pred = classifier.predict(x_test)\n",
    "acc_score = accuracy_score(y_true=y_test, y_pred = pred)\n",
    "f_score = f1_score(y_true=y_test, y_pred=pred)\n",
    "print(\"Accuracy Score Optimized Parameters:\", acc_score)\n",
    "print(\"F1 Score Optimized Parameters:\", f_score)\n"
   ]
  },
  {
   "cell_type": "markdown",
   "metadata": {},
   "source": [
    "With the test data we get around the same accuracy score, now lets look at the most important features below:"
   ]
  },
  {
   "cell_type": "code",
   "execution_count": 28,
   "metadata": {},
   "outputs": [
    {
     "name": "stdout",
     "output_type": "stream",
     "text": [
      "                features     score\n",
      "5                 coupon  0.347327\n",
      "15           CoffeeHouse  0.109266\n",
      "14                   Bar  0.103968\n",
      "6             expiration  0.062684\n",
      "20     toCoupon_GEQ25min  0.056601\n",
      "4                   time  0.056093\n",
      "12            occupation  0.031918\n",
      "1              passanger  0.028708\n",
      "8                    age  0.026906\n",
      "2                weather  0.024478\n",
      "0            destination  0.018712\n",
      "16             CarryAway  0.017685\n",
      "11             education  0.017166\n",
      "22         direction_opp  0.012829\n",
      "18      Restaurant20To50  0.012582\n",
      "13                income  0.011891\n",
      "9          maritalStatus  0.011762\n",
      "19     toCoupon_GEQ15min  0.010839\n",
      "3            temperature  0.010837\n",
      "17  RestaurantLessThan20  0.010641\n",
      "7                 gender  0.008672\n",
      "10          has_children  0.005752\n",
      "21        direction_same  0.002681\n"
     ]
    }
   ],
   "source": [
    "#Feature importance\n",
    "features = x.columns\n",
    "scores = classifier.feature_importances_.tolist()\n",
    "res = pd.DataFrame({'features' : features, 'score': scores})\n",
    "res = res.sort_values(by=['score'], ascending=False)\n",
    "print(res)"
   ]
  },
  {
   "cell_type": "markdown",
   "metadata": {},
   "source": [
    "We can thus conclude that the most important identifier from the Decision Tree Classifier model is the type of coupon that is presented to the customer, the frequency the person accepting the coupon goes to a Coffe House within a month, and if the driving time to the establishment is >=25 minutes.\n",
    "\n",
    "We can see how our models accuracy will be if we choose the top 1, 2, 3 features provided above. "
   ]
  },
  {
   "cell_type": "code",
   "execution_count": 29,
   "metadata": {},
   "outputs": [
    {
     "name": "stdout",
     "output_type": "stream",
     "text": [
      "With the top (1) feature, accuracy score =  0.6117461568782026\n",
      "With the top (2) features, accuracy score =  0.6318486401261332\n",
      "With the top (3) features, accuracy score =  0.6314544737879385\n"
     ]
    }
   ],
   "source": [
    "#models with top 1, 2, & 3 features\n",
    "top_1 = df[['coupon']].copy()\n",
    "top_2 = df[['coupon', 'Bar']].copy()\n",
    "top_3 = df[['coupon', 'Bar', 'income']].copy()\n",
    "\n",
    "x_train_1, x_test_1, y_train_1, y_test_1 = train_test_split(top_1,y, test_size=.2)\n",
    "x_train_2, x_test_2, y_train_2, y_test_2 = train_test_split(top_2,y, test_size=.2)\n",
    "x_train_3, x_test_3, y_train_3, y_test_3 = train_test_split(top_3,y, test_size=.2)\n",
    "\n",
    "classifier.fit(x_train_1, y_train_1)\n",
    "pred1 = classifier.predict(x_test_1)\n",
    "acc_score1 = accuracy_score(y_true=y_test_1, y_pred = pred1)\n",
    "print(\"With the top (1) feature, accuracy score = \", acc_score1)\n",
    "\n",
    "classifier.fit(x_train_2, y_train_2)\n",
    "pred2 = classifier.predict(x_test_2)\n",
    "acc_score2 = accuracy_score(y_true=y_test_2, y_pred = pred2)\n",
    "print(\"With the top (2) features, accuracy score = \", acc_score2)\n",
    "\n",
    "classifier.fit(x_train_3, y_train_3)\n",
    "pred3 = classifier.predict(x_test_3)\n",
    "acc_score3 = accuracy_score(y_true=y_test_3, y_pred = pred3)\n",
    "print(\"With the top (3) features, accuracy score = \", acc_score3)"
   ]
  },
  {
   "cell_type": "markdown",
   "metadata": {},
   "source": [
    "Accuracy fluctuates with the addition of additional parameters. But, there is an increase in accuracy as we add more features."
   ]
  },
  {
   "cell_type": "markdown",
   "metadata": {},
   "source": [
    "## Confusion Matrix \n",
    "For the optimized DTC model we created above, we want to view how we can improve the values of FN and FP. First lets view the amounts for those:"
   ]
  },
  {
   "cell_type": "code",
   "execution_count": 30,
   "metadata": {},
   "outputs": [
    {
     "name": "stdout",
     "output_type": "stream",
     "text": [
      "[[ 650  481]\n",
      " [ 263 1143]]\n",
      "TP =  1143\n",
      "FP =  481\n",
      "TN =  650\n",
      "FN =  263\n"
     ]
    }
   ],
   "source": [
    "#Confusion Matrix\n",
    "cm = sklearn.metrics.confusion_matrix(y_test, pred)\n",
    "print(cm)\n",
    "\n",
    "TP = 0\n",
    "FP = 0\n",
    "TN = 0\n",
    "FN = 0\n",
    "\n",
    "y_true = y_test.values.tolist()\n",
    "pos_label_value = 1\n",
    "for l in range(len(pred)):\n",
    "    predicted = pred[l]\n",
    "    true = y_true[l][0]\n",
    "    if predicted == pos_label_value and true == pos_label_value:\n",
    "        TP += 1\n",
    "    elif predicted == pos_label_value and true != pos_label_value:\n",
    "        FP += 1\n",
    "    elif predicted != pos_label_value and true == pos_label_value:\n",
    "        FN += 1\n",
    "    elif predicted != pos_label_value and true != pos_label_value:\n",
    "        TN += 1\n",
    "print(\"TP = \", TP)\n",
    "print(\"FP = \", FP)\n",
    "print(\"TN = \", TN)\n",
    "print(\"FN = \", FN)"
   ]
  },
  {
   "cell_type": "markdown",
   "metadata": {},
   "source": [
    "To improve those amounts we can change the GridSearchCV scoring to f1 instaed of accuracy to the predictions. This should help us to predict the TP and TN values a bit better. "
   ]
  },
  {
   "cell_type": "code",
   "execution_count": 31,
   "metadata": {},
   "outputs": [
    {
     "name": "stdout",
     "output_type": "stream",
     "text": [
      "Best Estimator values: DecisionTreeClassifier(ccp_alpha=0.0, class_weight=None, criterion='gini',\n",
      "                       max_depth=9, max_features=None, max_leaf_nodes=50,\n",
      "                       min_impurity_decrease=0.0, min_impurity_split=None,\n",
      "                       min_samples_leaf=1, min_samples_split=2,\n",
      "                       min_weight_fraction_leaf=0.0, presort='deprecated',\n",
      "                       random_state=None, splitter='best')\n",
      "Best Score: 0.7582991914429948\n"
     ]
    }
   ],
   "source": [
    "parameters = {'max_depth' : np.arange(3,10),\n",
    "             'criterion': ['gini', 'entropy'],\n",
    "              'max_leaf_nodes' : [5,10,15,20,50,100],\n",
    "              'min_samples_split' : [2,4,5,10,15,20]\n",
    "             }\n",
    "grid_search_tree = GridSearchCV(DecisionTreeClassifier(), parameters, scoring=\"f1\")\n",
    "\n",
    "grid_search_tree.fit(x_train, y_train)\n",
    "\n",
    "print(\"Best Estimator values:\", grid_search_tree.best_estimator_)\n",
    "\n",
    "print('Best Score:', np.abs(grid_search_tree.best_score_))"
   ]
  },
  {
   "cell_type": "code",
   "execution_count": 32,
   "metadata": {},
   "outputs": [
    {
     "name": "stdout",
     "output_type": "stream",
     "text": [
      "Accuracy Score Optimized Parameters: 0.7027985810011825\n",
      "F1 Score Optimized Parameters: 0.7438858695652175\n"
     ]
    }
   ],
   "source": [
    "classifier = DecisionTreeClassifier(ccp_alpha=0.0, class_weight=None, criterion='gini',\n",
    "                       max_depth=7, max_features=None, max_leaf_nodes=50,\n",
    "                       min_impurity_decrease=0.0, min_impurity_split=None,\n",
    "                       min_samples_leaf=1, min_samples_split=2,\n",
    "                       min_weight_fraction_leaf=0.0, presort='deprecated',\n",
    "                       random_state=None, splitter='best')\n",
    "\n",
    "classifier.fit(x_train, y_train)\n",
    "pred = classifier.predict(x_test)\n",
    "acc_score = accuracy_score(y_true=y_test, y_pred = pred)\n",
    "f_score = f1_score(y_true=y_test, y_pred=pred)\n",
    "print(\"Accuracy Score Optimized Parameters:\", acc_score)\n",
    "print(\"F1 Score Optimized Parameters:\", f_score)"
   ]
  },
  {
   "cell_type": "code",
   "execution_count": 33,
   "metadata": {},
   "outputs": [
    {
     "name": "stdout",
     "output_type": "stream",
     "text": [
      "                features     score\n",
      "5                 coupon  0.412034\n",
      "15           CoffeeHouse  0.125124\n",
      "14                   Bar  0.112173\n",
      "6             expiration  0.072073\n",
      "20     toCoupon_GEQ25min  0.065174\n",
      "4                   time  0.059458\n",
      "2                weather  0.026413\n",
      "1              passanger  0.021995\n",
      "0            destination  0.018767\n",
      "8                    age  0.016942\n",
      "12            occupation  0.016614\n",
      "22         direction_opp  0.010436\n",
      "18      Restaurant20To50  0.007535\n",
      "19     toCoupon_GEQ15min  0.007071\n",
      "11             education  0.006977\n",
      "10          has_children  0.006916\n",
      "7                 gender  0.005908\n",
      "13                income  0.004732\n",
      "9          maritalStatus  0.003658\n",
      "16             CarryAway  0.000000\n",
      "17  RestaurantLessThan20  0.000000\n",
      "3            temperature  0.000000\n",
      "21        direction_same  0.000000\n"
     ]
    }
   ],
   "source": [
    "features = x_train.columns\n",
    "scores = classifier.feature_importances_.tolist()\n",
    "res = pd.DataFrame({'features' : features, 'score': scores})\n",
    "res = res.sort_values(by=['score'], ascending=False)\n",
    "print(res)"
   ]
  },
  {
   "cell_type": "code",
   "execution_count": 34,
   "metadata": {},
   "outputs": [
    {
     "name": "stdout",
     "output_type": "stream",
     "text": [
      "[[ 688  443]\n",
      " [ 311 1095]]\n",
      "New TP =  1095\n",
      "New FP =  443\n",
      "New TN =  688\n",
      "New FN =  311\n"
     ]
    }
   ],
   "source": [
    "#Confusion Matrix\n",
    "cm = sklearn.metrics.confusion_matrix(y_test, pred)\n",
    "print(cm)\n",
    "\n",
    "TP_new = 0\n",
    "FP_new = 0\n",
    "TN_new = 0\n",
    "FN_new = 0\n",
    "\n",
    "y_true = y_test.values.tolist()\n",
    "pos_label_value = 1\n",
    "for x in range(len(pred)):\n",
    "    predicted = pred[x]\n",
    "    true = y_true[x][0]\n",
    "    if predicted == pos_label_value and true == pos_label_value:\n",
    "        TP_new += 1\n",
    "    elif predicted == pos_label_value and true != pos_label_value:\n",
    "        FP_new += 1\n",
    "    elif predicted != pos_label_value and true == pos_label_value:\n",
    "        FN_new += 1\n",
    "    elif predicted != pos_label_value and true != pos_label_value:\n",
    "        TN_new += 1\n",
    "print(\"New TP = \", TP_new)\n",
    "print(\"New FP = \", FP_new)\n",
    "print(\"New TN = \", TN_new)\n",
    "print(\"New FN = \", FN_new)\n"
   ]
  },
  {
   "cell_type": "markdown",
   "metadata": {},
   "source": [
    "To compare those values we can see the following:\n",
    "\n",
    "TP =  1136, New TP =  1159\n",
    "\n",
    "FP =  423, New FP =  467\n",
    "\n",
    "TN =  649, New TN =  605\n",
    "\n",
    "FN =  329, New FN =  306\n",
    "\n",
    "Both False Negatives and true Negatives decreased, while False Positives and True Positives increased. This may be a favorable for this model and dataset as we prefer to include more people into positive to provide them with the ability to accept the coupon despite them being a possible negative as they may be persuaded by further external factors not included in this dataset. "
   ]
  },
  {
   "cell_type": "markdown",
   "metadata": {},
   "source": [
    "### Feature Engineering\n",
    "For this I want to remove all personal traits, and focus on observable features. \n",
    "\n",
    "I will start with combining direction_opp and direction_same into one column with different values:"
   ]
  },
  {
   "cell_type": "code",
   "execution_count": 35,
   "metadata": {},
   "outputs": [],
   "source": [
    "fe_df = df.copy()\n",
    "fe_df['direction'] = 0\n",
    "fe_df.loc[((fe_df.direction_opp == 1) & (fe_df.direction_same == 0)), 'direction'] = 0 # Opposite direction\n",
    "fe_df.loc[((fe_df.direction_opp == 0) & (fe_df.direction_same == 1)), 'direction'] = 1 # Same direction\n",
    "fe_df = fe_df.drop(columns=['direction_same', 'direction_opp'])"
   ]
  },
  {
   "cell_type": "markdown",
   "metadata": {},
   "source": [
    "Next we will make the passenger column to be a binary, to make it more of an observable feature:"
   ]
  },
  {
   "cell_type": "code",
   "execution_count": 36,
   "metadata": {},
   "outputs": [],
   "source": [
    "fe_df['b_passanger'] = 0\n",
    "fe_df.loc[((fe_df['passanger'] == 0), 'b_passanger')] = 0\n",
    "fe_df.loc[((fe_df['passanger'] == 1) | (fe_df['passanger'] == 2) | (fe_df['passanger'] == 3), 'b_passanger')] = 1\n",
    "fe_df = fe_df.drop(columns=['passanger'])\n",
    "fe_df = fe_df.rename(columns={'b_passanger' : 'new_passanger'})"
   ]
  },
  {
   "cell_type": "markdown",
   "metadata": {},
   "source": [
    "Finally, we want to combine the columns `toCoupon_GEQ15min` and `toCoupon_GEQ25min`:"
   ]
  },
  {
   "cell_type": "code",
   "execution_count": 37,
   "metadata": {},
   "outputs": [],
   "source": [
    "fe_df['toCoupon'] = 0\n",
    "fe_df.loc[((fe_df['toCoupon_GEQ15min'] == 0) & (fe_df['toCoupon_GEQ25min'] == 0), 'toCoupon')] = 0 # Less than 15 mins\n",
    "fe_df.loc[((fe_df['toCoupon_GEQ15min'] == 1) & (fe_df['toCoupon_GEQ25min'] == 0), 'toCoupon')] = 1 # between 15 and 25\n",
    "fe_df.loc[((fe_df['toCoupon_GEQ15min'] == 1) & (fe_df['toCoupon_GEQ25min'] == 1), 'toCoupon')] = 2 # Greater than 25\n",
    "fe_df = fe_df.drop(columns=['toCoupon_GEQ15min', 'toCoupon_GEQ25min'])"
   ]
  },
  {
   "cell_type": "code",
   "execution_count": 38,
   "metadata": {},
   "outputs": [],
   "source": [
    "fe_df = fe_df[['destination', 'new_passanger', 'weather', 'temperature', 'direction', 'time', 'coupon', 'expiration', 'toCoupon', 'Y']].copy()"
   ]
  },
  {
   "cell_type": "code",
   "execution_count": 39,
   "metadata": {},
   "outputs": [
    {
     "data": {
      "text/html": [
       "<div>\n",
       "<style scoped>\n",
       "    .dataframe tbody tr th:only-of-type {\n",
       "        vertical-align: middle;\n",
       "    }\n",
       "\n",
       "    .dataframe tbody tr th {\n",
       "        vertical-align: top;\n",
       "    }\n",
       "\n",
       "    .dataframe thead th {\n",
       "        text-align: right;\n",
       "    }\n",
       "</style>\n",
       "<table border=\"1\" class=\"dataframe\">\n",
       "  <thead>\n",
       "    <tr style=\"text-align: right;\">\n",
       "      <th></th>\n",
       "      <th>destination</th>\n",
       "      <th>new_passanger</th>\n",
       "      <th>weather</th>\n",
       "      <th>temperature</th>\n",
       "      <th>direction</th>\n",
       "      <th>time</th>\n",
       "      <th>coupon</th>\n",
       "      <th>expiration</th>\n",
       "      <th>toCoupon</th>\n",
       "      <th>Y</th>\n",
       "    </tr>\n",
       "  </thead>\n",
       "  <tbody>\n",
       "    <tr>\n",
       "      <th>0</th>\n",
       "      <td>1</td>\n",
       "      <td>0</td>\n",
       "      <td>2</td>\n",
       "      <td>55</td>\n",
       "      <td>0</td>\n",
       "      <td>2</td>\n",
       "      <td>4</td>\n",
       "      <td>0</td>\n",
       "      <td>0</td>\n",
       "      <td>1</td>\n",
       "    </tr>\n",
       "    <tr>\n",
       "      <th>1</th>\n",
       "      <td>1</td>\n",
       "      <td>1</td>\n",
       "      <td>2</td>\n",
       "      <td>80</td>\n",
       "      <td>0</td>\n",
       "      <td>0</td>\n",
       "      <td>2</td>\n",
       "      <td>1</td>\n",
       "      <td>0</td>\n",
       "      <td>0</td>\n",
       "    </tr>\n",
       "    <tr>\n",
       "      <th>2</th>\n",
       "      <td>1</td>\n",
       "      <td>1</td>\n",
       "      <td>2</td>\n",
       "      <td>80</td>\n",
       "      <td>0</td>\n",
       "      <td>0</td>\n",
       "      <td>1</td>\n",
       "      <td>1</td>\n",
       "      <td>1</td>\n",
       "      <td>1</td>\n",
       "    </tr>\n",
       "    <tr>\n",
       "      <th>3</th>\n",
       "      <td>1</td>\n",
       "      <td>1</td>\n",
       "      <td>2</td>\n",
       "      <td>80</td>\n",
       "      <td>0</td>\n",
       "      <td>2</td>\n",
       "      <td>2</td>\n",
       "      <td>1</td>\n",
       "      <td>1</td>\n",
       "      <td>0</td>\n",
       "    </tr>\n",
       "    <tr>\n",
       "      <th>4</th>\n",
       "      <td>1</td>\n",
       "      <td>1</td>\n",
       "      <td>2</td>\n",
       "      <td>80</td>\n",
       "      <td>0</td>\n",
       "      <td>2</td>\n",
       "      <td>2</td>\n",
       "      <td>0</td>\n",
       "      <td>1</td>\n",
       "      <td>0</td>\n",
       "    </tr>\n",
       "  </tbody>\n",
       "</table>\n",
       "</div>"
      ],
      "text/plain": [
       "   destination  new_passanger  weather  temperature  direction  time  coupon  \\\n",
       "0            1              0        2           55          0     2       4   \n",
       "1            1              1        2           80          0     0       2   \n",
       "2            1              1        2           80          0     0       1   \n",
       "3            1              1        2           80          0     2       2   \n",
       "4            1              1        2           80          0     2       2   \n",
       "\n",
       "   expiration  toCoupon  Y  \n",
       "0           0         0  1  \n",
       "1           1         0  0  \n",
       "2           1         1  1  \n",
       "3           1         1  0  \n",
       "4           0         1  0  "
      ]
     },
     "execution_count": 39,
     "metadata": {},
     "output_type": "execute_result"
    }
   ],
   "source": [
    "fe_df.head()"
   ]
  },
  {
   "cell_type": "markdown",
   "metadata": {},
   "source": [
    "## Feature Engineered visualization"
   ]
  },
  {
   "cell_type": "markdown",
   "metadata": {},
   "source": [
    "Lets take a look into the combined columns:"
   ]
  },
  {
   "cell_type": "code",
   "execution_count": 40,
   "metadata": {},
   "outputs": [
    {
     "data": {
      "text/plain": [
       "<matplotlib.axes._subplots.AxesSubplot at 0x1d57ee187c8>"
      ]
     },
     "execution_count": 40,
     "metadata": {},
     "output_type": "execute_result"
    },
    {
     "data": {
      "image/png": "[encoded data removed]",
      "text/plain": [
       "<Figure size 432x288 with 1 Axes>"
      ]
     },
     "metadata": {},
     "output_type": "display_data"
    }
   ],
   "source": [
    "fe_df['direction'].value_counts().plot(kind='barh')"
   ]
  },
  {
   "cell_type": "code",
   "execution_count": 41,
   "metadata": {},
   "outputs": [
    {
     "data": {
      "text/html": [
       "<div>\n",
       "<style scoped>\n",
       "    .dataframe tbody tr th:only-of-type {\n",
       "        vertical-align: middle;\n",
       "    }\n",
       "\n",
       "    .dataframe tbody tr th {\n",
       "        vertical-align: top;\n",
       "    }\n",
       "\n",
       "    .dataframe thead th {\n",
       "        text-align: right;\n",
       "    }\n",
       "</style>\n",
       "<table border=\"1\" class=\"dataframe\">\n",
       "  <thead>\n",
       "    <tr style=\"text-align: right;\">\n",
       "      <th>Y</th>\n",
       "      <th>0</th>\n",
       "      <th>1</th>\n",
       "    </tr>\n",
       "    <tr>\n",
       "      <th>direction</th>\n",
       "      <th></th>\n",
       "      <th></th>\n",
       "    </tr>\n",
       "  </thead>\n",
       "  <tbody>\n",
       "    <tr>\n",
       "      <th>0</th>\n",
       "      <td>4336</td>\n",
       "      <td>5624</td>\n",
       "    </tr>\n",
       "    <tr>\n",
       "      <th>1</th>\n",
       "      <td>1138</td>\n",
       "      <td>1586</td>\n",
       "    </tr>\n",
       "  </tbody>\n",
       "</table>\n",
       "</div>"
      ],
      "text/plain": [
       "Y             0     1\n",
       "direction            \n",
       "0          4336  5624\n",
       "1          1138  1586"
      ]
     },
     "execution_count": 41,
     "metadata": {},
     "output_type": "execute_result"
    }
   ],
   "source": [
    "direction = fe_df.groupby(['direction', 'Y']).size().unstack()\n",
    "direction"
   ]
  },
  {
   "cell_type": "code",
   "execution_count": 42,
   "metadata": {},
   "outputs": [
    {
     "data": {
      "text/plain": [
       "<matplotlib.axes._subplots.AxesSubplot at 0x1d57ee8d148>"
      ]
     },
     "execution_count": 42,
     "metadata": {},
     "output_type": "execute_result"
    },
    {
     "data": {
      "image/png": "[encoded data removed]",
      "text/plain": [
       "<Figure size 432x288 with 1 Axes>"
      ]
     },
     "metadata": {},
     "output_type": "display_data"
    }
   ],
   "source": [
    "fe_df['new_passanger'].value_counts().plot(kind='barh')"
   ]
  },
  {
   "cell_type": "code",
   "execution_count": 43,
   "metadata": {},
   "outputs": [
    {
     "data": {
      "text/html": [
       "<div>\n",
       "<style scoped>\n",
       "    .dataframe tbody tr th:only-of-type {\n",
       "        vertical-align: middle;\n",
       "    }\n",
       "\n",
       "    .dataframe tbody tr th {\n",
       "        vertical-align: top;\n",
       "    }\n",
       "\n",
       "    .dataframe thead th {\n",
       "        text-align: right;\n",
       "    }\n",
       "</style>\n",
       "<table border=\"1\" class=\"dataframe\">\n",
       "  <thead>\n",
       "    <tr style=\"text-align: right;\">\n",
       "      <th>Y</th>\n",
       "      <th>0</th>\n",
       "      <th>1</th>\n",
       "    </tr>\n",
       "    <tr>\n",
       "      <th>new_passanger</th>\n",
       "      <th></th>\n",
       "      <th></th>\n",
       "    </tr>\n",
       "  </thead>\n",
       "  <tbody>\n",
       "    <tr>\n",
       "      <th>0</th>\n",
       "      <td>3464</td>\n",
       "      <td>3841</td>\n",
       "    </tr>\n",
       "    <tr>\n",
       "      <th>1</th>\n",
       "      <td>2010</td>\n",
       "      <td>3369</td>\n",
       "    </tr>\n",
       "  </tbody>\n",
       "</table>\n",
       "</div>"
      ],
      "text/plain": [
       "Y                 0     1\n",
       "new_passanger            \n",
       "0              3464  3841\n",
       "1              2010  3369"
      ]
     },
     "execution_count": 43,
     "metadata": {},
     "output_type": "execute_result"
    }
   ],
   "source": [
    "passanger = fe_df.groupby(['new_passanger', 'Y']).size().unstack()\n",
    "passanger"
   ]
  },
  {
   "cell_type": "code",
   "execution_count": null,
   "metadata": {},
   "outputs": [],
   "source": []
  },
  {
   "cell_type": "markdown",
   "metadata": {},
   "source": [
    "### Re-run model on new dataset"
   ]
  },
  {
   "cell_type": "code",
   "execution_count": 44,
   "metadata": {},
   "outputs": [],
   "source": [
    "fe_x = fe_df.drop(columns='Y').copy()\n",
    "fe_y = fe_df[['Y']].copy()"
   ]
  },
  {
   "cell_type": "code",
   "execution_count": 45,
   "metadata": {},
   "outputs": [],
   "source": [
    "x_train, x_test, y_train, y_test = train_test_split(fe_x, fe_y, train_size=0.8)"
   ]
  },
  {
   "cell_type": "code",
   "execution_count": 46,
   "metadata": {},
   "outputs": [
    {
     "name": "stdout",
     "output_type": "stream",
     "text": [
      "Best Estimator values: DecisionTreeClassifier(ccp_alpha=0.0, class_weight=None, criterion='gini',\n",
      "                       max_depth=8, max_features=None, max_leaf_nodes=50,\n",
      "                       min_impurity_decrease=0.0, min_impurity_split=None,\n",
      "                       min_samples_leaf=1, min_samples_split=2,\n",
      "                       min_weight_fraction_leaf=0.0, presort='deprecated',\n",
      "                       random_state=None, splitter='best')\n",
      "Best Score: 0.6759634074394191\n"
     ]
    }
   ],
   "source": [
    "parameters = {'max_depth' : np.arange(3,10),\n",
    "             'criterion': ['gini', 'entropy'],\n",
    "              'max_leaf_nodes' : [5,10,15,20,50,100],\n",
    "              'min_samples_split' : [2,4,5,10,15,20]\n",
    "             }\n",
    "grid_search_tree = GridSearchCV(DecisionTreeClassifier(), parameters, scoring=\"accuracy\")\n",
    "\n",
    "grid_search_tree.fit(x_train, y_train)\n",
    "\n",
    "print(\"Best Estimator values:\", grid_search_tree.best_estimator_)\n",
    "\n",
    "print('Best Score:', np.abs(grid_search_tree.best_score_))"
   ]
  },
  {
   "cell_type": "code",
   "execution_count": 47,
   "metadata": {},
   "outputs": [
    {
     "name": "stdout",
     "output_type": "stream",
     "text": [
      "Accuracy Score Optimized Parameters: 0.6665352778872684\n",
      "F1 Score Optimized Parameters: 0.7183754993342211\n"
     ]
    }
   ],
   "source": [
    "classifier = DecisionTreeClassifier(ccp_alpha=0.0, class_weight=None, criterion='gini',\n",
    "                       max_depth=9, max_features=None, max_leaf_nodes=100,\n",
    "                       min_impurity_decrease=0.0, min_impurity_split=None,\n",
    "                       min_samples_leaf=1, min_samples_split=2,\n",
    "                       min_weight_fraction_leaf=0.0, presort='deprecated',\n",
    "                       random_state=None, splitter='best')\n",
    "\n",
    "classifier.fit(x_train, y_train)\n",
    "pred = classifier.predict(x_test)\n",
    "acc_score = accuracy_score(y_true=y_test, y_pred = pred)\n",
    "f_score = f1_score(y_true=y_test, y_pred=pred)\n",
    "print(\"Accuracy Score Optimized Parameters:\", acc_score)\n",
    "print(\"F1 Score Optimized Parameters:\", f_score)"
   ]
  },
  {
   "cell_type": "code",
   "execution_count": 48,
   "metadata": {},
   "outputs": [
    {
     "name": "stdout",
     "output_type": "stream",
     "text": [
      "Feature importance\n",
      "        features     score\n",
      "6         coupon  0.411138\n",
      "5           time  0.148271\n",
      "8       toCoupon  0.131918\n",
      "7     expiration  0.128469\n",
      "0    destination  0.046477\n",
      "2        weather  0.040088\n",
      "4      direction  0.034130\n",
      "3    temperature  0.031527\n",
      "1  new_passanger  0.027982\n"
     ]
    }
   ],
   "source": [
    "features = x_train.columns\n",
    "scores = classifier.feature_importances_.tolist()\n",
    "res = pd.DataFrame({'features' : features, 'score': scores})\n",
    "res = res.sort_values(by=['score'], ascending=False)\n",
    "print(\"Feature importance\")\n",
    "print(res)"
   ]
  },
  {
   "cell_type": "code",
   "execution_count": 49,
   "metadata": {},
   "outputs": [
    {
     "name": "stdout",
     "output_type": "stream",
     "text": [
      "[[ 612  464]\n",
      " [ 382 1079]]\n",
      "With max accuracy we get:\n",
      "FE Acc TP =  1079\n",
      "FE Acc FP =  464\n",
      "FE Acc TN =  612\n",
      "FE Acc FN =  382\n"
     ]
    }
   ],
   "source": [
    "cm = sklearn.metrics.confusion_matrix(y_test, pred)\n",
    "print(cm)\n",
    "\n",
    "fe_TP = 0\n",
    "fe_FP = 0\n",
    "fe_TN = 0\n",
    "fe_FN = 0\n",
    "\n",
    "y_true = y_test.values.tolist()\n",
    "pos_label_value = 1\n",
    "for x in range(len(pred)):\n",
    "    predicted = pred[x]\n",
    "    true = y_true[x][0]\n",
    "    if predicted == pos_label_value and true == pos_label_value:\n",
    "        fe_TP += 1\n",
    "    elif predicted == pos_label_value and true != pos_label_value:\n",
    "        fe_FP += 1\n",
    "    elif predicted != pos_label_value and true == pos_label_value:\n",
    "        fe_FN += 1\n",
    "    elif predicted != pos_label_value and true != pos_label_value:\n",
    "        fe_TN += 1\n",
    "print(\"With max accuracy we get:\")\n",
    "print(\"FE Acc TP = \", fe_TP)\n",
    "print(\"FE Acc FP = \", fe_FP)\n",
    "print(\"FE Acc TN = \", fe_TN)\n",
    "print(\"FE Acc FN = \", fe_FN)"
   ]
  },
  {
   "cell_type": "code",
   "execution_count": 50,
   "metadata": {},
   "outputs": [
    {
     "name": "stdout",
     "output_type": "stream",
     "text": [
      "Best Estimator values: DecisionTreeClassifier(ccp_alpha=0.0, class_weight=None, criterion='gini',\n",
      "                       max_depth=8, max_features=None, max_leaf_nodes=50,\n",
      "                       min_impurity_decrease=0.0, min_impurity_split=None,\n",
      "                       min_samples_leaf=1, min_samples_split=2,\n",
      "                       min_weight_fraction_leaf=0.0, presort='deprecated',\n",
      "                       random_state=None, splitter='best')\n",
      "Best Score: 0.723490490947776\n"
     ]
    }
   ],
   "source": [
    "parameters = {'max_depth' : np.arange(3,10),\n",
    "             'criterion': ['gini', 'entropy'],\n",
    "              'max_leaf_nodes' : [5,10,15,20,50,100],\n",
    "              'min_samples_split' : [2,4,5,10,15,20]\n",
    "             }\n",
    "grid_search_tree = GridSearchCV(DecisionTreeClassifier(), parameters, scoring=\"f1\")\n",
    "\n",
    "grid_search_tree.fit(x_train, y_train)\n",
    "\n",
    "print(\"Best Estimator values:\", grid_search_tree.best_estimator_)\n",
    "\n",
    "print('Best Score:', np.abs(grid_search_tree.best_score_))"
   ]
  },
  {
   "cell_type": "code",
   "execution_count": 51,
   "metadata": {},
   "outputs": [
    {
     "name": "stdout",
     "output_type": "stream",
     "text": [
      "Accuracy Score Optimized Parameters: 0.6610169491525424\n",
      "F1 Score Optimized Parameters: 0.7172912557527943\n"
     ]
    }
   ],
   "source": [
    "classifier = DecisionTreeClassifier(ccp_alpha=0.0, class_weight=None, criterion='entropy',\n",
    "                       max_depth=6, max_features=None, max_leaf_nodes=50,\n",
    "                       min_impurity_decrease=0.0, min_impurity_split=None,\n",
    "                       min_samples_leaf=1, min_samples_split=2,\n",
    "                       min_weight_fraction_leaf=0.0, presort='deprecated',\n",
    "                       random_state=None, splitter='best')\n",
    "\n",
    "classifier.fit(x_train, y_train)\n",
    "pred = classifier.predict(x_test)\n",
    "acc_score = accuracy_score(y_true=y_test, y_pred = pred)\n",
    "f_score = f1_score(y_true=y_test, y_pred=pred)\n",
    "print(\"Accuracy Score Optimized Parameters:\", acc_score)\n",
    "print(\"F1 Score Optimized Parameters:\", f_score)"
   ]
  },
  {
   "cell_type": "code",
   "execution_count": 52,
   "metadata": {},
   "outputs": [
    {
     "name": "stdout",
     "output_type": "stream",
     "text": [
      "Feature importance\n",
      "        features     score\n",
      "6         coupon  0.449976\n",
      "7     expiration  0.144321\n",
      "8       toCoupon  0.129089\n",
      "5           time  0.110166\n",
      "0    destination  0.048245\n",
      "3    temperature  0.043041\n",
      "4      direction  0.028011\n",
      "1  new_passanger  0.027286\n",
      "2        weather  0.019865\n"
     ]
    }
   ],
   "source": [
    "features = x_train.columns\n",
    "scores = classifier.feature_importances_.tolist()\n",
    "res = pd.DataFrame({'features' : features, 'score': scores})\n",
    "res = res.sort_values(by=['score'], ascending=False)\n",
    "print(\"Feature importance\")\n",
    "print(res)"
   ]
  },
  {
   "cell_type": "code",
   "execution_count": 53,
   "metadata": {},
   "outputs": [
    {
     "name": "stdout",
     "output_type": "stream",
     "text": [
      "[[ 586  490]\n",
      " [ 370 1091]]\n",
      "With max f1 we get:\n",
      "FE f1 TP =  1091\n",
      "FE f1 FP =  490\n",
      "FE f1 TN =  586\n",
      "FE f1 FN =  370\n"
     ]
    }
   ],
   "source": [
    "cm = sklearn.metrics.confusion_matrix(y_test, pred)\n",
    "print(cm)\n",
    "\n",
    "fe_TP = 0\n",
    "fe_FP = 0\n",
    "fe_TN = 0\n",
    "fe_FN = 0\n",
    "\n",
    "y_true = y_test.values.tolist()\n",
    "pos_label_value = 1\n",
    "for x in range(len(pred)):\n",
    "    predicted = pred[x]\n",
    "    true = y_true[x][0]\n",
    "    if predicted == pos_label_value and true == pos_label_value:\n",
    "        fe_TP += 1\n",
    "    elif predicted == pos_label_value and true != pos_label_value:\n",
    "        fe_FP += 1\n",
    "    elif predicted != pos_label_value and true == pos_label_value:\n",
    "        fe_FN += 1\n",
    "    elif predicted != pos_label_value and true != pos_label_value:\n",
    "        fe_TN += 1\n",
    "print(\"With max f1 we get:\")\n",
    "print(\"FE f1 TP = \", fe_TP)\n",
    "print(\"FE f1 FP = \", fe_FP)\n",
    "print(\"FE f1 TN = \", fe_TN)\n",
    "print(\"FE f1 FN = \", fe_FN)"
   ]
  },
  {
   "cell_type": "markdown",
   "metadata": {},
   "source": [
    "Now that we only ran our model on observable features, we can see that the model improved, and will help the people passing out the coupons to use their observation skills, and decision for time and direction to pass out the coupons more effectively to people that are more likely to "
   ]
  },
  {
   "cell_type": "code",
   "execution_count": null,
   "metadata": {},
   "outputs": [],
   "source": []
  },
  {
   "cell_type": "markdown",
   "metadata": {},
   "source": [
    "# Conclusions"
   ]
  },
  {
   "cell_type": "markdown",
   "metadata": {},
   "source": [
    "The model before feature engineering may not be the best even after the changes made to be more focused on f1-score rather than accuracy. But, having more positives than negatives in this situation is not the worse as it would lead to more wasted time of offering coupons to those that may not accept them, but it also will lead to more true positive outcomes. \n",
    "\n",
    "After choosing only the obersable features we got a worse model, but unless we have a camera that views into the car and gives us the backstory and details for each person it will not be a practical model. This way we can provide those employees with the insight into what factors that they can observe to offer a coupon to a driver that is more likely to accept a coupon and improve their effeciency. \n",
    "\n",
    "To improve this we might need to choose a different model that uses weights on each feature to have better insight into which feature will impact the customer not accepting more. I would recommend a bayesian model as well. "
   ]
  },
  {
   "cell_type": "code",
   "execution_count": null,
   "metadata": {},
   "outputs": [],
   "source": []
  }
 ],
 "metadata": {
  "kernelspec": {
   "display_name": "Python 3",
   "language": "python",
   "name": "python3"
  },
  "language_info": {
   "codemirror_mode": {
    "name": "ipython",
    "version": 3
   },
   "file_extension": ".py",
   "mimetype": "text/x-python",
   "name": "python",
   "nbconvert_exporter": "python",
   "pygments_lexer": "ipython3",
   "version": "3.7.6"
  }
 },
 "nbformat": 4,
 "nbformat_minor": 4
}
